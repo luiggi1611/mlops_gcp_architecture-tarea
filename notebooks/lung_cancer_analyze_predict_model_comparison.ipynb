{
 "cells": [
  {
   "cell_type": "markdown",
   "id": "4e803e4a",
   "metadata": {
    "id": "4e803e4a",
    "papermill": {
     "duration": 0.014075,
     "end_time": "2022-08-11T19:25:10.856617",
     "exception": false,
     "start_time": "2022-08-11T19:25:10.842542",
     "status": "completed"
    },
    "tags": []
   },
   "source": [
    "\n",
    "# 1. **Data analysis**"
   ]
  },
  {
   "cell_type": "markdown",
   "id": "ced9a5d7",
   "metadata": {
    "id": "ced9a5d7",
    "papermill": {
     "duration": 0.012372,
     "end_time": "2022-08-11T19:25:10.881901",
     "exception": false,
     "start_time": "2022-08-11T19:25:10.869529",
     "status": "completed"
    },
    "tags": []
   },
   "source": [
    "\n",
    "\n",
    "```\n",
    "# Tiene formato de código\n",
    "```\n",
    "\n",
    "## Import Librabries"
   ]
  },
  {
   "cell_type": "code",
   "execution_count": 1,
   "id": "49af571f",
   "metadata": {
    "id": "49af571f",
    "papermill": {
     "duration": 1.234813,
     "end_time": "2022-08-11T19:25:12.129543",
     "exception": false,
     "start_time": "2022-08-11T19:25:10.894730",
     "status": "completed"
    },
    "tags": []
   },
   "outputs": [
    {
     "ename": "ModuleNotFoundError",
     "evalue": "No module named 'optuna'",
     "output_type": "error",
     "traceback": [
      "\u001b[0;31m---------------------------------------------------------------------------\u001b[0m",
      "\u001b[0;31mModuleNotFoundError\u001b[0m                       Traceback (most recent call last)",
      "Cell \u001b[0;32mIn[1], line 16\u001b[0m\n\u001b[1;32m     13\u001b[0m \u001b[38;5;66;03m#Oversampling\u001b[39;00m\n\u001b[1;32m     14\u001b[0m \u001b[38;5;28;01mfrom\u001b[39;00m \u001b[38;5;21;01mimblearn\u001b[39;00m\u001b[38;5;21;01m.\u001b[39;00m\u001b[38;5;21;01mover_sampling\u001b[39;00m \u001b[38;5;28;01mimport\u001b[39;00m SMOTE\n\u001b[0;32m---> 16\u001b[0m \u001b[38;5;28;01mimport\u001b[39;00m \u001b[38;5;21;01moptuna\u001b[39;00m\n",
      "\u001b[0;31mModuleNotFoundError\u001b[0m: No module named 'optuna'"
     ]
    }
   ],
   "source": [
    "#Matrix Calculation\n",
    "import numpy as np \n",
    "\n",
    "#Data Manipulation\n",
    "import pandas as pd \n",
    "\n",
    "#To Plot Graphs\n",
    "import matplotlib.pyplot as plt \n",
    "\n",
    "#Statistical Visualization \n",
    "import seaborn as sns\n",
    "\n",
    "#Oversampling\n",
    "from imblearn.over_sampling import SMOTE\n",
    "\n",
    "import optuna"
   ]
  },
  {
   "cell_type": "code",
   "execution_count": 2,
   "id": "09954aa3",
   "metadata": {
    "colab": {
     "base_uri": "https://localhost:8080/",
     "height": 347
    },
    "id": "09954aa3",
    "outputId": "c3ddcb58-1fff-44bb-8a50-3d106a1a0634",
    "papermill": {
     "duration": 0.049767,
     "end_time": "2022-08-11T19:25:12.197145",
     "exception": false,
     "start_time": "2022-08-11T19:25:12.147378",
     "status": "completed"
    },
    "tags": []
   },
   "outputs": [],
   "source": [
    "#Read CSV FILE and copy it into the variable\n",
    "dataset=pd.read_csv(\"../data/input_data/survey lung cancer.csv\")\n"
   ]
  },
  {
   "cell_type": "code",
   "execution_count": 3,
   "id": "21f3eaeb",
   "metadata": {
    "colab": {
     "base_uri": "https://localhost:8080/"
    },
    "id": "21f3eaeb",
    "outputId": "ca4ffd91-1586-43e9-b262-1021843b04df",
    "papermill": {
     "duration": 0.025909,
     "end_time": "2022-08-11T19:25:12.237146",
     "exception": false,
     "start_time": "2022-08-11T19:25:12.211237",
     "status": "completed"
    },
    "tags": []
   },
   "outputs": [
    {
     "data": {
      "text/plain": [
       "(309, 16)"
      ]
     },
     "execution_count": 3,
     "metadata": {},
     "output_type": "execute_result"
    }
   ],
   "source": [
    "#Know rows and columns\n",
    "dataset.shape"
   ]
  },
  {
   "cell_type": "code",
   "execution_count": 4,
   "id": "858adbae",
   "metadata": {
    "colab": {
     "base_uri": "https://localhost:8080/",
     "height": 424
    },
    "id": "858adbae",
    "outputId": "60706718-d8f2-41c5-a042-e72114c04238",
    "papermill": {
     "duration": 0.045693,
     "end_time": "2022-08-11T19:25:12.296654",
     "exception": false,
     "start_time": "2022-08-11T19:25:12.250961",
     "status": "completed"
    },
    "tags": []
   },
   "outputs": [
    {
     "data": {
      "text/html": [
       "<div>\n",
       "<style scoped>\n",
       "    .dataframe tbody tr th:only-of-type {\n",
       "        vertical-align: middle;\n",
       "    }\n",
       "\n",
       "    .dataframe tbody tr th {\n",
       "        vertical-align: top;\n",
       "    }\n",
       "\n",
       "    .dataframe thead th {\n",
       "        text-align: right;\n",
       "    }\n",
       "</style>\n",
       "<table border=\"1\" class=\"dataframe\">\n",
       "  <thead>\n",
       "    <tr style=\"text-align: right;\">\n",
       "      <th></th>\n",
       "      <th>GENDER</th>\n",
       "      <th>AGE</th>\n",
       "      <th>SMOKING</th>\n",
       "      <th>YELLOW_FINGERS</th>\n",
       "      <th>ANXIETY</th>\n",
       "      <th>PEER_PRESSURE</th>\n",
       "      <th>CHRONIC DISEASE</th>\n",
       "      <th>FATIGUE</th>\n",
       "      <th>ALLERGY</th>\n",
       "      <th>WHEEZING</th>\n",
       "      <th>ALCOHOL CONSUMING</th>\n",
       "      <th>COUGHING</th>\n",
       "      <th>SHORTNESS OF BREATH</th>\n",
       "      <th>SWALLOWING DIFFICULTY</th>\n",
       "      <th>CHEST PAIN</th>\n",
       "      <th>LUNG_CANCER</th>\n",
       "    </tr>\n",
       "  </thead>\n",
       "  <tbody>\n",
       "    <tr>\n",
       "      <th>257</th>\n",
       "      <td>M</td>\n",
       "      <td>64</td>\n",
       "      <td>2</td>\n",
       "      <td>1</td>\n",
       "      <td>1</td>\n",
       "      <td>1</td>\n",
       "      <td>1</td>\n",
       "      <td>1</td>\n",
       "      <td>2</td>\n",
       "      <td>2</td>\n",
       "      <td>2</td>\n",
       "      <td>2</td>\n",
       "      <td>1</td>\n",
       "      <td>1</td>\n",
       "      <td>2</td>\n",
       "      <td>YES</td>\n",
       "    </tr>\n",
       "    <tr>\n",
       "      <th>20</th>\n",
       "      <td>F</td>\n",
       "      <td>44</td>\n",
       "      <td>2</td>\n",
       "      <td>2</td>\n",
       "      <td>2</td>\n",
       "      <td>2</td>\n",
       "      <td>2</td>\n",
       "      <td>2</td>\n",
       "      <td>1</td>\n",
       "      <td>1</td>\n",
       "      <td>1</td>\n",
       "      <td>1</td>\n",
       "      <td>2</td>\n",
       "      <td>2</td>\n",
       "      <td>1</td>\n",
       "      <td>YES</td>\n",
       "    </tr>\n",
       "    <tr>\n",
       "      <th>18</th>\n",
       "      <td>F</td>\n",
       "      <td>68</td>\n",
       "      <td>2</td>\n",
       "      <td>2</td>\n",
       "      <td>2</td>\n",
       "      <td>2</td>\n",
       "      <td>2</td>\n",
       "      <td>2</td>\n",
       "      <td>1</td>\n",
       "      <td>1</td>\n",
       "      <td>1</td>\n",
       "      <td>2</td>\n",
       "      <td>2</td>\n",
       "      <td>1</td>\n",
       "      <td>1</td>\n",
       "      <td>YES</td>\n",
       "    </tr>\n",
       "    <tr>\n",
       "      <th>235</th>\n",
       "      <td>F</td>\n",
       "      <td>64</td>\n",
       "      <td>1</td>\n",
       "      <td>1</td>\n",
       "      <td>2</td>\n",
       "      <td>1</td>\n",
       "      <td>2</td>\n",
       "      <td>1</td>\n",
       "      <td>2</td>\n",
       "      <td>2</td>\n",
       "      <td>2</td>\n",
       "      <td>1</td>\n",
       "      <td>1</td>\n",
       "      <td>2</td>\n",
       "      <td>1</td>\n",
       "      <td>YES</td>\n",
       "    </tr>\n",
       "    <tr>\n",
       "      <th>130</th>\n",
       "      <td>F</td>\n",
       "      <td>51</td>\n",
       "      <td>2</td>\n",
       "      <td>2</td>\n",
       "      <td>2</td>\n",
       "      <td>2</td>\n",
       "      <td>1</td>\n",
       "      <td>2</td>\n",
       "      <td>1</td>\n",
       "      <td>1</td>\n",
       "      <td>1</td>\n",
       "      <td>1</td>\n",
       "      <td>2</td>\n",
       "      <td>2</td>\n",
       "      <td>1</td>\n",
       "      <td>YES</td>\n",
       "    </tr>\n",
       "    <tr>\n",
       "      <th>205</th>\n",
       "      <td>M</td>\n",
       "      <td>62</td>\n",
       "      <td>1</td>\n",
       "      <td>2</td>\n",
       "      <td>2</td>\n",
       "      <td>2</td>\n",
       "      <td>1</td>\n",
       "      <td>2</td>\n",
       "      <td>1</td>\n",
       "      <td>1</td>\n",
       "      <td>1</td>\n",
       "      <td>1</td>\n",
       "      <td>1</td>\n",
       "      <td>2</td>\n",
       "      <td>2</td>\n",
       "      <td>YES</td>\n",
       "    </tr>\n",
       "    <tr>\n",
       "      <th>86</th>\n",
       "      <td>M</td>\n",
       "      <td>66</td>\n",
       "      <td>1</td>\n",
       "      <td>2</td>\n",
       "      <td>2</td>\n",
       "      <td>1</td>\n",
       "      <td>2</td>\n",
       "      <td>1</td>\n",
       "      <td>2</td>\n",
       "      <td>1</td>\n",
       "      <td>2</td>\n",
       "      <td>2</td>\n",
       "      <td>2</td>\n",
       "      <td>1</td>\n",
       "      <td>2</td>\n",
       "      <td>YES</td>\n",
       "    </tr>\n",
       "    <tr>\n",
       "      <th>17</th>\n",
       "      <td>M</td>\n",
       "      <td>57</td>\n",
       "      <td>2</td>\n",
       "      <td>2</td>\n",
       "      <td>2</td>\n",
       "      <td>2</td>\n",
       "      <td>2</td>\n",
       "      <td>1</td>\n",
       "      <td>1</td>\n",
       "      <td>1</td>\n",
       "      <td>2</td>\n",
       "      <td>1</td>\n",
       "      <td>1</td>\n",
       "      <td>2</td>\n",
       "      <td>2</td>\n",
       "      <td>YES</td>\n",
       "    </tr>\n",
       "    <tr>\n",
       "      <th>169</th>\n",
       "      <td>M</td>\n",
       "      <td>56</td>\n",
       "      <td>2</td>\n",
       "      <td>2</td>\n",
       "      <td>2</td>\n",
       "      <td>2</td>\n",
       "      <td>1</td>\n",
       "      <td>2</td>\n",
       "      <td>2</td>\n",
       "      <td>1</td>\n",
       "      <td>2</td>\n",
       "      <td>2</td>\n",
       "      <td>2</td>\n",
       "      <td>1</td>\n",
       "      <td>2</td>\n",
       "      <td>YES</td>\n",
       "    </tr>\n",
       "    <tr>\n",
       "      <th>300</th>\n",
       "      <td>F</td>\n",
       "      <td>63</td>\n",
       "      <td>2</td>\n",
       "      <td>2</td>\n",
       "      <td>2</td>\n",
       "      <td>2</td>\n",
       "      <td>2</td>\n",
       "      <td>2</td>\n",
       "      <td>2</td>\n",
       "      <td>2</td>\n",
       "      <td>1</td>\n",
       "      <td>2</td>\n",
       "      <td>2</td>\n",
       "      <td>2</td>\n",
       "      <td>2</td>\n",
       "      <td>YES</td>\n",
       "    </tr>\n",
       "  </tbody>\n",
       "</table>\n",
       "</div>"
      ],
      "text/plain": [
       "    GENDER  AGE  SMOKING  YELLOW_FINGERS  ANXIETY  PEER_PRESSURE  \\\n",
       "257      M   64        2               1        1              1   \n",
       "20       F   44        2               2        2              2   \n",
       "18       F   68        2               2        2              2   \n",
       "235      F   64        1               1        2              1   \n",
       "130      F   51        2               2        2              2   \n",
       "205      M   62        1               2        2              2   \n",
       "86       M   66        1               2        2              1   \n",
       "17       M   57        2               2        2              2   \n",
       "169      M   56        2               2        2              2   \n",
       "300      F   63        2               2        2              2   \n",
       "\n",
       "     CHRONIC DISEASE  FATIGUE   ALLERGY   WHEEZING  ALCOHOL CONSUMING  \\\n",
       "257                1         1         2         2                  2   \n",
       "20                 2         2         1         1                  1   \n",
       "18                 2         2         1         1                  1   \n",
       "235                2         1         2         2                  2   \n",
       "130                1         2         1         1                  1   \n",
       "205                1         2         1         1                  1   \n",
       "86                 2         1         2         1                  2   \n",
       "17                 2         1         1         1                  2   \n",
       "169                1         2         2         1                  2   \n",
       "300                2         2         2         2                  1   \n",
       "\n",
       "     COUGHING  SHORTNESS OF BREATH  SWALLOWING DIFFICULTY  CHEST PAIN  \\\n",
       "257         2                    1                      1           2   \n",
       "20          1                    2                      2           1   \n",
       "18          2                    2                      1           1   \n",
       "235         1                    1                      2           1   \n",
       "130         1                    2                      2           1   \n",
       "205         1                    1                      2           2   \n",
       "86          2                    2                      1           2   \n",
       "17          1                    1                      2           2   \n",
       "169         2                    2                      1           2   \n",
       "300         2                    2                      2           2   \n",
       "\n",
       "    LUNG_CANCER  \n",
       "257         YES  \n",
       "20          YES  \n",
       "18          YES  \n",
       "235         YES  \n",
       "130         YES  \n",
       "205         YES  \n",
       "86          YES  \n",
       "17          YES  \n",
       "169         YES  \n",
       "300         YES  "
      ]
     },
     "execution_count": 4,
     "metadata": {},
     "output_type": "execute_result"
    }
   ],
   "source": [
    "#Print 10 Rows from Data\n",
    "dataset.sample(10)"
   ]
  },
  {
   "cell_type": "code",
   "execution_count": 5,
   "id": "eda693be",
   "metadata": {
    "colab": {
     "base_uri": "https://localhost:8080/"
    },
    "id": "eda693be",
    "outputId": "24ebdead-d453-4526-8f24-fc8bec8198e8",
    "papermill": {
     "duration": 0.023903,
     "end_time": "2022-08-11T19:25:12.333770",
     "exception": false,
     "start_time": "2022-08-11T19:25:12.309867",
     "status": "completed"
    },
    "tags": []
   },
   "outputs": [
    {
     "data": {
      "text/plain": [
       "Index(['GENDER', 'AGE', 'SMOKING', 'YELLOW_FINGERS', 'ANXIETY',\n",
       "       'PEER_PRESSURE', 'CHRONIC DISEASE', 'FATIGUE ', 'ALLERGY ', 'WHEEZING',\n",
       "       'ALCOHOL CONSUMING', 'COUGHING', 'SHORTNESS OF BREATH',\n",
       "       'SWALLOWING DIFFICULTY', 'CHEST PAIN', 'LUNG_CANCER'],\n",
       "      dtype='object')"
      ]
     },
     "execution_count": 5,
     "metadata": {},
     "output_type": "execute_result"
    }
   ],
   "source": [
    "#Print Columns\n",
    "dataset.columns"
   ]
  },
  {
   "cell_type": "code",
   "execution_count": 6,
   "id": "2b61b123",
   "metadata": {
    "colab": {
     "base_uri": "https://localhost:8080/"
    },
    "id": "2b61b123",
    "outputId": "9070514c-e2c1-461e-f3bb-06d8e3f5f929",
    "papermill": {
     "duration": 0.025051,
     "end_time": "2022-08-11T19:25:12.372016",
     "exception": false,
     "start_time": "2022-08-11T19:25:12.346965",
     "status": "completed"
    },
    "tags": []
   },
   "outputs": [
    {
     "data": {
      "text/plain": [
       "GENDER                   object\n",
       "AGE                       int64\n",
       "SMOKING                   int64\n",
       "YELLOW_FINGERS            int64\n",
       "ANXIETY                   int64\n",
       "PEER_PRESSURE             int64\n",
       "CHRONIC DISEASE           int64\n",
       "FATIGUE                   int64\n",
       "ALLERGY                   int64\n",
       "WHEEZING                  int64\n",
       "ALCOHOL CONSUMING         int64\n",
       "COUGHING                  int64\n",
       "SHORTNESS OF BREATH       int64\n",
       "SWALLOWING DIFFICULTY     int64\n",
       "CHEST PAIN                int64\n",
       "LUNG_CANCER              object\n",
       "dtype: object"
      ]
     },
     "execution_count": 6,
     "metadata": {},
     "output_type": "execute_result"
    }
   ],
   "source": [
    "#Get to know the data types that exist in data\n",
    "dataset.dtypes"
   ]
  },
  {
   "cell_type": "code",
   "execution_count": 7,
   "id": "ebaaa880",
   "metadata": {
    "colab": {
     "base_uri": "https://localhost:8080/",
     "height": 381
    },
    "id": "ebaaa880",
    "outputId": "44ba6073-da64-455c-82b5-b0dfc3d1c2b7",
    "papermill": {
     "duration": 0.079932,
     "end_time": "2022-08-11T19:25:12.465173",
     "exception": false,
     "start_time": "2022-08-11T19:25:12.385241",
     "status": "completed"
    },
    "tags": []
   },
   "outputs": [
    {
     "data": {
      "text/html": [
       "<div>\n",
       "<style scoped>\n",
       "    .dataframe tbody tr th:only-of-type {\n",
       "        vertical-align: middle;\n",
       "    }\n",
       "\n",
       "    .dataframe tbody tr th {\n",
       "        vertical-align: top;\n",
       "    }\n",
       "\n",
       "    .dataframe thead th {\n",
       "        text-align: right;\n",
       "    }\n",
       "</style>\n",
       "<table border=\"1\" class=\"dataframe\">\n",
       "  <thead>\n",
       "    <tr style=\"text-align: right;\">\n",
       "      <th></th>\n",
       "      <th>AGE</th>\n",
       "      <th>SMOKING</th>\n",
       "      <th>YELLOW_FINGERS</th>\n",
       "      <th>ANXIETY</th>\n",
       "      <th>PEER_PRESSURE</th>\n",
       "      <th>CHRONIC DISEASE</th>\n",
       "      <th>FATIGUE</th>\n",
       "      <th>ALLERGY</th>\n",
       "      <th>WHEEZING</th>\n",
       "      <th>ALCOHOL CONSUMING</th>\n",
       "      <th>COUGHING</th>\n",
       "      <th>SHORTNESS OF BREATH</th>\n",
       "      <th>SWALLOWING DIFFICULTY</th>\n",
       "      <th>CHEST PAIN</th>\n",
       "    </tr>\n",
       "  </thead>\n",
       "  <tbody>\n",
       "    <tr>\n",
       "      <th>count</th>\n",
       "      <td>309.000000</td>\n",
       "      <td>309.000000</td>\n",
       "      <td>309.000000</td>\n",
       "      <td>309.000000</td>\n",
       "      <td>309.000000</td>\n",
       "      <td>309.000000</td>\n",
       "      <td>309.000000</td>\n",
       "      <td>309.000000</td>\n",
       "      <td>309.000000</td>\n",
       "      <td>309.000000</td>\n",
       "      <td>309.000000</td>\n",
       "      <td>309.000000</td>\n",
       "      <td>309.000000</td>\n",
       "      <td>309.000000</td>\n",
       "    </tr>\n",
       "    <tr>\n",
       "      <th>mean</th>\n",
       "      <td>62.673139</td>\n",
       "      <td>1.563107</td>\n",
       "      <td>1.569579</td>\n",
       "      <td>1.498382</td>\n",
       "      <td>1.501618</td>\n",
       "      <td>1.504854</td>\n",
       "      <td>1.673139</td>\n",
       "      <td>1.556634</td>\n",
       "      <td>1.556634</td>\n",
       "      <td>1.556634</td>\n",
       "      <td>1.579288</td>\n",
       "      <td>1.640777</td>\n",
       "      <td>1.469256</td>\n",
       "      <td>1.556634</td>\n",
       "    </tr>\n",
       "    <tr>\n",
       "      <th>std</th>\n",
       "      <td>8.210301</td>\n",
       "      <td>0.496806</td>\n",
       "      <td>0.495938</td>\n",
       "      <td>0.500808</td>\n",
       "      <td>0.500808</td>\n",
       "      <td>0.500787</td>\n",
       "      <td>0.469827</td>\n",
       "      <td>0.497588</td>\n",
       "      <td>0.497588</td>\n",
       "      <td>0.497588</td>\n",
       "      <td>0.494474</td>\n",
       "      <td>0.480551</td>\n",
       "      <td>0.499863</td>\n",
       "      <td>0.497588</td>\n",
       "    </tr>\n",
       "    <tr>\n",
       "      <th>min</th>\n",
       "      <td>21.000000</td>\n",
       "      <td>1.000000</td>\n",
       "      <td>1.000000</td>\n",
       "      <td>1.000000</td>\n",
       "      <td>1.000000</td>\n",
       "      <td>1.000000</td>\n",
       "      <td>1.000000</td>\n",
       "      <td>1.000000</td>\n",
       "      <td>1.000000</td>\n",
       "      <td>1.000000</td>\n",
       "      <td>1.000000</td>\n",
       "      <td>1.000000</td>\n",
       "      <td>1.000000</td>\n",
       "      <td>1.000000</td>\n",
       "    </tr>\n",
       "    <tr>\n",
       "      <th>25%</th>\n",
       "      <td>57.000000</td>\n",
       "      <td>1.000000</td>\n",
       "      <td>1.000000</td>\n",
       "      <td>1.000000</td>\n",
       "      <td>1.000000</td>\n",
       "      <td>1.000000</td>\n",
       "      <td>1.000000</td>\n",
       "      <td>1.000000</td>\n",
       "      <td>1.000000</td>\n",
       "      <td>1.000000</td>\n",
       "      <td>1.000000</td>\n",
       "      <td>1.000000</td>\n",
       "      <td>1.000000</td>\n",
       "      <td>1.000000</td>\n",
       "    </tr>\n",
       "    <tr>\n",
       "      <th>50%</th>\n",
       "      <td>62.000000</td>\n",
       "      <td>2.000000</td>\n",
       "      <td>2.000000</td>\n",
       "      <td>1.000000</td>\n",
       "      <td>2.000000</td>\n",
       "      <td>2.000000</td>\n",
       "      <td>2.000000</td>\n",
       "      <td>2.000000</td>\n",
       "      <td>2.000000</td>\n",
       "      <td>2.000000</td>\n",
       "      <td>2.000000</td>\n",
       "      <td>2.000000</td>\n",
       "      <td>1.000000</td>\n",
       "      <td>2.000000</td>\n",
       "    </tr>\n",
       "    <tr>\n",
       "      <th>75%</th>\n",
       "      <td>69.000000</td>\n",
       "      <td>2.000000</td>\n",
       "      <td>2.000000</td>\n",
       "      <td>2.000000</td>\n",
       "      <td>2.000000</td>\n",
       "      <td>2.000000</td>\n",
       "      <td>2.000000</td>\n",
       "      <td>2.000000</td>\n",
       "      <td>2.000000</td>\n",
       "      <td>2.000000</td>\n",
       "      <td>2.000000</td>\n",
       "      <td>2.000000</td>\n",
       "      <td>2.000000</td>\n",
       "      <td>2.000000</td>\n",
       "    </tr>\n",
       "    <tr>\n",
       "      <th>max</th>\n",
       "      <td>87.000000</td>\n",
       "      <td>2.000000</td>\n",
       "      <td>2.000000</td>\n",
       "      <td>2.000000</td>\n",
       "      <td>2.000000</td>\n",
       "      <td>2.000000</td>\n",
       "      <td>2.000000</td>\n",
       "      <td>2.000000</td>\n",
       "      <td>2.000000</td>\n",
       "      <td>2.000000</td>\n",
       "      <td>2.000000</td>\n",
       "      <td>2.000000</td>\n",
       "      <td>2.000000</td>\n",
       "      <td>2.000000</td>\n",
       "    </tr>\n",
       "  </tbody>\n",
       "</table>\n",
       "</div>"
      ],
      "text/plain": [
       "              AGE     SMOKING  YELLOW_FINGERS     ANXIETY  PEER_PRESSURE  \\\n",
       "count  309.000000  309.000000      309.000000  309.000000     309.000000   \n",
       "mean    62.673139    1.563107        1.569579    1.498382       1.501618   \n",
       "std      8.210301    0.496806        0.495938    0.500808       0.500808   \n",
       "min     21.000000    1.000000        1.000000    1.000000       1.000000   \n",
       "25%     57.000000    1.000000        1.000000    1.000000       1.000000   \n",
       "50%     62.000000    2.000000        2.000000    1.000000       2.000000   \n",
       "75%     69.000000    2.000000        2.000000    2.000000       2.000000   \n",
       "max     87.000000    2.000000        2.000000    2.000000       2.000000   \n",
       "\n",
       "       CHRONIC DISEASE    FATIGUE     ALLERGY     WHEEZING  ALCOHOL CONSUMING  \\\n",
       "count       309.000000  309.000000  309.000000  309.000000         309.000000   \n",
       "mean          1.504854    1.673139    1.556634    1.556634           1.556634   \n",
       "std           0.500787    0.469827    0.497588    0.497588           0.497588   \n",
       "min           1.000000    1.000000    1.000000    1.000000           1.000000   \n",
       "25%           1.000000    1.000000    1.000000    1.000000           1.000000   \n",
       "50%           2.000000    2.000000    2.000000    2.000000           2.000000   \n",
       "75%           2.000000    2.000000    2.000000    2.000000           2.000000   \n",
       "max           2.000000    2.000000    2.000000    2.000000           2.000000   \n",
       "\n",
       "         COUGHING  SHORTNESS OF BREATH  SWALLOWING DIFFICULTY  CHEST PAIN  \n",
       "count  309.000000           309.000000             309.000000  309.000000  \n",
       "mean     1.579288             1.640777               1.469256    1.556634  \n",
       "std      0.494474             0.480551               0.499863    0.497588  \n",
       "min      1.000000             1.000000               1.000000    1.000000  \n",
       "25%      1.000000             1.000000               1.000000    1.000000  \n",
       "50%      2.000000             2.000000               1.000000    2.000000  \n",
       "75%      2.000000             2.000000               2.000000    2.000000  \n",
       "max      2.000000             2.000000               2.000000    2.000000  "
      ]
     },
     "execution_count": 7,
     "metadata": {},
     "output_type": "execute_result"
    }
   ],
   "source": [
    "#Summary of data\n",
    "dataset.describe()"
   ]
  },
  {
   "cell_type": "markdown",
   "id": "0d1f3f52",
   "metadata": {
    "id": "0d1f3f52",
    "papermill": {
     "duration": 0.013507,
     "end_time": "2022-08-11T19:25:12.493203",
     "exception": false,
     "start_time": "2022-08-11T19:25:12.479696",
     "status": "completed"
    },
    "tags": []
   },
   "source": [
    "## Data Formatting"
   ]
  },
  {
   "cell_type": "code",
   "execution_count": 8,
   "id": "27347549",
   "metadata": {
    "id": "27347549",
    "papermill": {
     "duration": 0.02312,
     "end_time": "2022-08-11T19:25:12.530302",
     "exception": false,
     "start_time": "2022-08-11T19:25:12.507182",
     "status": "completed"
    },
    "tags": []
   },
   "outputs": [],
   "source": [
    "#Case Formatting\n",
    "dataset.columns=dataset.columns.str.title()"
   ]
  },
  {
   "cell_type": "code",
   "execution_count": 9,
   "id": "82992300",
   "metadata": {
    "colab": {
     "base_uri": "https://localhost:8080/",
     "height": 424
    },
    "id": "82992300",
    "outputId": "9741aff5-dde5-4d2a-a972-5305f3d6110d",
    "papermill": {
     "duration": 0.034369,
     "end_time": "2022-08-11T19:25:12.578625",
     "exception": false,
     "start_time": "2022-08-11T19:25:12.544256",
     "status": "completed"
    },
    "tags": []
   },
   "outputs": [
    {
     "data": {
      "text/html": [
       "<div>\n",
       "<style scoped>\n",
       "    .dataframe tbody tr th:only-of-type {\n",
       "        vertical-align: middle;\n",
       "    }\n",
       "\n",
       "    .dataframe tbody tr th {\n",
       "        vertical-align: top;\n",
       "    }\n",
       "\n",
       "    .dataframe thead th {\n",
       "        text-align: right;\n",
       "    }\n",
       "</style>\n",
       "<table border=\"1\" class=\"dataframe\">\n",
       "  <thead>\n",
       "    <tr style=\"text-align: right;\">\n",
       "      <th></th>\n",
       "      <th>Gender</th>\n",
       "      <th>Age</th>\n",
       "      <th>Smoking</th>\n",
       "      <th>Yellow_Fingers</th>\n",
       "      <th>Anxiety</th>\n",
       "      <th>Peer_Pressure</th>\n",
       "      <th>Chronic Disease</th>\n",
       "      <th>Fatigue</th>\n",
       "      <th>Allergy</th>\n",
       "      <th>Wheezing</th>\n",
       "      <th>Alcohol Consuming</th>\n",
       "      <th>Coughing</th>\n",
       "      <th>Shortness Of Breath</th>\n",
       "      <th>Swallowing Difficulty</th>\n",
       "      <th>Chest Pain</th>\n",
       "      <th>Lung_Cancer</th>\n",
       "    </tr>\n",
       "  </thead>\n",
       "  <tbody>\n",
       "    <tr>\n",
       "      <th>0</th>\n",
       "      <td>M</td>\n",
       "      <td>69</td>\n",
       "      <td>1</td>\n",
       "      <td>2</td>\n",
       "      <td>2</td>\n",
       "      <td>1</td>\n",
       "      <td>1</td>\n",
       "      <td>2</td>\n",
       "      <td>1</td>\n",
       "      <td>2</td>\n",
       "      <td>2</td>\n",
       "      <td>2</td>\n",
       "      <td>2</td>\n",
       "      <td>2</td>\n",
       "      <td>2</td>\n",
       "      <td>YES</td>\n",
       "    </tr>\n",
       "    <tr>\n",
       "      <th>1</th>\n",
       "      <td>M</td>\n",
       "      <td>74</td>\n",
       "      <td>2</td>\n",
       "      <td>1</td>\n",
       "      <td>1</td>\n",
       "      <td>1</td>\n",
       "      <td>2</td>\n",
       "      <td>2</td>\n",
       "      <td>2</td>\n",
       "      <td>1</td>\n",
       "      <td>1</td>\n",
       "      <td>1</td>\n",
       "      <td>2</td>\n",
       "      <td>2</td>\n",
       "      <td>2</td>\n",
       "      <td>YES</td>\n",
       "    </tr>\n",
       "    <tr>\n",
       "      <th>2</th>\n",
       "      <td>F</td>\n",
       "      <td>59</td>\n",
       "      <td>1</td>\n",
       "      <td>1</td>\n",
       "      <td>1</td>\n",
       "      <td>2</td>\n",
       "      <td>1</td>\n",
       "      <td>2</td>\n",
       "      <td>1</td>\n",
       "      <td>2</td>\n",
       "      <td>1</td>\n",
       "      <td>2</td>\n",
       "      <td>2</td>\n",
       "      <td>1</td>\n",
       "      <td>2</td>\n",
       "      <td>NO</td>\n",
       "    </tr>\n",
       "    <tr>\n",
       "      <th>3</th>\n",
       "      <td>M</td>\n",
       "      <td>63</td>\n",
       "      <td>2</td>\n",
       "      <td>2</td>\n",
       "      <td>2</td>\n",
       "      <td>1</td>\n",
       "      <td>1</td>\n",
       "      <td>1</td>\n",
       "      <td>1</td>\n",
       "      <td>1</td>\n",
       "      <td>2</td>\n",
       "      <td>1</td>\n",
       "      <td>1</td>\n",
       "      <td>2</td>\n",
       "      <td>2</td>\n",
       "      <td>NO</td>\n",
       "    </tr>\n",
       "    <tr>\n",
       "      <th>4</th>\n",
       "      <td>F</td>\n",
       "      <td>63</td>\n",
       "      <td>1</td>\n",
       "      <td>2</td>\n",
       "      <td>1</td>\n",
       "      <td>1</td>\n",
       "      <td>1</td>\n",
       "      <td>1</td>\n",
       "      <td>1</td>\n",
       "      <td>2</td>\n",
       "      <td>1</td>\n",
       "      <td>2</td>\n",
       "      <td>2</td>\n",
       "      <td>1</td>\n",
       "      <td>1</td>\n",
       "      <td>NO</td>\n",
       "    </tr>\n",
       "    <tr>\n",
       "      <th>5</th>\n",
       "      <td>F</td>\n",
       "      <td>75</td>\n",
       "      <td>1</td>\n",
       "      <td>2</td>\n",
       "      <td>1</td>\n",
       "      <td>1</td>\n",
       "      <td>2</td>\n",
       "      <td>2</td>\n",
       "      <td>2</td>\n",
       "      <td>2</td>\n",
       "      <td>1</td>\n",
       "      <td>2</td>\n",
       "      <td>2</td>\n",
       "      <td>1</td>\n",
       "      <td>1</td>\n",
       "      <td>YES</td>\n",
       "    </tr>\n",
       "    <tr>\n",
       "      <th>6</th>\n",
       "      <td>M</td>\n",
       "      <td>52</td>\n",
       "      <td>2</td>\n",
       "      <td>1</td>\n",
       "      <td>1</td>\n",
       "      <td>1</td>\n",
       "      <td>1</td>\n",
       "      <td>2</td>\n",
       "      <td>1</td>\n",
       "      <td>2</td>\n",
       "      <td>2</td>\n",
       "      <td>2</td>\n",
       "      <td>2</td>\n",
       "      <td>1</td>\n",
       "      <td>2</td>\n",
       "      <td>YES</td>\n",
       "    </tr>\n",
       "    <tr>\n",
       "      <th>7</th>\n",
       "      <td>F</td>\n",
       "      <td>51</td>\n",
       "      <td>2</td>\n",
       "      <td>2</td>\n",
       "      <td>2</td>\n",
       "      <td>2</td>\n",
       "      <td>1</td>\n",
       "      <td>2</td>\n",
       "      <td>2</td>\n",
       "      <td>1</td>\n",
       "      <td>1</td>\n",
       "      <td>1</td>\n",
       "      <td>2</td>\n",
       "      <td>2</td>\n",
       "      <td>1</td>\n",
       "      <td>YES</td>\n",
       "    </tr>\n",
       "    <tr>\n",
       "      <th>8</th>\n",
       "      <td>F</td>\n",
       "      <td>68</td>\n",
       "      <td>2</td>\n",
       "      <td>1</td>\n",
       "      <td>2</td>\n",
       "      <td>1</td>\n",
       "      <td>1</td>\n",
       "      <td>2</td>\n",
       "      <td>1</td>\n",
       "      <td>1</td>\n",
       "      <td>1</td>\n",
       "      <td>1</td>\n",
       "      <td>1</td>\n",
       "      <td>1</td>\n",
       "      <td>1</td>\n",
       "      <td>NO</td>\n",
       "    </tr>\n",
       "    <tr>\n",
       "      <th>9</th>\n",
       "      <td>M</td>\n",
       "      <td>53</td>\n",
       "      <td>2</td>\n",
       "      <td>2</td>\n",
       "      <td>2</td>\n",
       "      <td>2</td>\n",
       "      <td>2</td>\n",
       "      <td>1</td>\n",
       "      <td>2</td>\n",
       "      <td>1</td>\n",
       "      <td>2</td>\n",
       "      <td>1</td>\n",
       "      <td>1</td>\n",
       "      <td>2</td>\n",
       "      <td>2</td>\n",
       "      <td>YES</td>\n",
       "    </tr>\n",
       "  </tbody>\n",
       "</table>\n",
       "</div>"
      ],
      "text/plain": [
       "  Gender  Age  Smoking  Yellow_Fingers  Anxiety  Peer_Pressure  \\\n",
       "0      M   69        1               2        2              1   \n",
       "1      M   74        2               1        1              1   \n",
       "2      F   59        1               1        1              2   \n",
       "3      M   63        2               2        2              1   \n",
       "4      F   63        1               2        1              1   \n",
       "5      F   75        1               2        1              1   \n",
       "6      M   52        2               1        1              1   \n",
       "7      F   51        2               2        2              2   \n",
       "8      F   68        2               1        2              1   \n",
       "9      M   53        2               2        2              2   \n",
       "\n",
       "   Chronic Disease  Fatigue   Allergy   Wheezing  Alcohol Consuming  Coughing  \\\n",
       "0                1         2         1         2                  2         2   \n",
       "1                2         2         2         1                  1         1   \n",
       "2                1         2         1         2                  1         2   \n",
       "3                1         1         1         1                  2         1   \n",
       "4                1         1         1         2                  1         2   \n",
       "5                2         2         2         2                  1         2   \n",
       "6                1         2         1         2                  2         2   \n",
       "7                1         2         2         1                  1         1   \n",
       "8                1         2         1         1                  1         1   \n",
       "9                2         1         2         1                  2         1   \n",
       "\n",
       "   Shortness Of Breath  Swallowing Difficulty  Chest Pain Lung_Cancer  \n",
       "0                    2                      2           2         YES  \n",
       "1                    2                      2           2         YES  \n",
       "2                    2                      1           2          NO  \n",
       "3                    1                      2           2          NO  \n",
       "4                    2                      1           1          NO  \n",
       "5                    2                      1           1         YES  \n",
       "6                    2                      1           2         YES  \n",
       "7                    2                      2           1         YES  \n",
       "8                    1                      1           1          NO  \n",
       "9                    1                      2           2         YES  "
      ]
     },
     "execution_count": 9,
     "metadata": {},
     "output_type": "execute_result"
    }
   ],
   "source": [
    "#Check Fomatting\n",
    "dataset.head(10)"
   ]
  },
  {
   "cell_type": "code",
   "execution_count": 10,
   "id": "5edc46e4",
   "metadata": {
    "colab": {
     "base_uri": "https://localhost:8080/"
    },
    "id": "5edc46e4",
    "outputId": "ad1cc7da-b7d2-4fea-8b23-d699d56d0e7b",
    "papermill": {
     "duration": 0.024756,
     "end_time": "2022-08-11T19:25:12.618855",
     "exception": false,
     "start_time": "2022-08-11T19:25:12.594099",
     "status": "completed"
    },
    "tags": []
   },
   "outputs": [
    {
     "data": {
      "text/plain": [
       "Index(['Gender', 'Age', 'Smoking', 'Yellow_Fingers', 'Anxiety',\n",
       "       'Peer_Pressure', 'Chronic Disease', 'Fatigue ', 'Allergy ', 'Wheezing',\n",
       "       'Alcohol Consuming', 'Coughing', 'Shortness Of Breath',\n",
       "       'Swallowing Difficulty', 'Chest Pain', 'Lung_Cancer'],\n",
       "      dtype='object')"
      ]
     },
     "execution_count": 10,
     "metadata": {},
     "output_type": "execute_result"
    }
   ],
   "source": [
    "#Check Formatiing\n",
    "dataset.columns"
   ]
  },
  {
   "cell_type": "code",
   "execution_count": 11,
   "id": "b3384ff7",
   "metadata": {
    "id": "b3384ff7",
    "papermill": {
     "duration": 0.030915,
     "end_time": "2022-08-11T19:25:12.664569",
     "exception": false,
     "start_time": "2022-08-11T19:25:12.633654",
     "status": "completed"
    },
    "tags": []
   },
   "outputs": [],
   "source": [
    "#Change data for better understanding\n",
    "dataset[\"Gender\"]=dataset[\"Gender\"].replace([\"M\",\"F\"],[\"Male\",\"Female\"])\n",
    "\n",
    "#Replace 1&2 with 0&1 for better understanding\n",
    "col=[\"Smoking\",\"Yellow_Fingers\",\"Anxiety\",\"Peer_Pressure\",\"Chronic Disease\",\"Fatigue \",\"Allergy \",\"Wheezing\",\"Alcohol Consuming\",\"Coughing\",\"Shortness Of Breath\",\"Swallowing Difficulty\",\"Chest Pain\"]\n",
    "for x in col:\n",
    "        dataset[x]=dataset[x].replace([1,2],[0,1])"
   ]
  },
  {
   "cell_type": "code",
   "execution_count": 12,
   "id": "867cd914",
   "metadata": {
    "colab": {
     "base_uri": "https://localhost:8080/",
     "height": 444
    },
    "id": "867cd914",
    "outputId": "ce084120-8a4a-4e77-f4cb-b1d5292ea9e7",
    "papermill": {
     "duration": 0.035183,
     "end_time": "2022-08-11T19:25:12.714149",
     "exception": false,
     "start_time": "2022-08-11T19:25:12.678966",
     "status": "completed"
    },
    "tags": []
   },
   "outputs": [
    {
     "data": {
      "text/html": [
       "<div>\n",
       "<style scoped>\n",
       "    .dataframe tbody tr th:only-of-type {\n",
       "        vertical-align: middle;\n",
       "    }\n",
       "\n",
       "    .dataframe tbody tr th {\n",
       "        vertical-align: top;\n",
       "    }\n",
       "\n",
       "    .dataframe thead th {\n",
       "        text-align: right;\n",
       "    }\n",
       "</style>\n",
       "<table border=\"1\" class=\"dataframe\">\n",
       "  <thead>\n",
       "    <tr style=\"text-align: right;\">\n",
       "      <th></th>\n",
       "      <th>Gender</th>\n",
       "      <th>Age</th>\n",
       "      <th>Smoking</th>\n",
       "      <th>Yellow_Fingers</th>\n",
       "      <th>Anxiety</th>\n",
       "      <th>Peer_Pressure</th>\n",
       "      <th>Chronic Disease</th>\n",
       "      <th>Fatigue</th>\n",
       "      <th>Allergy</th>\n",
       "      <th>Wheezing</th>\n",
       "      <th>Alcohol Consuming</th>\n",
       "      <th>Coughing</th>\n",
       "      <th>Shortness Of Breath</th>\n",
       "      <th>Swallowing Difficulty</th>\n",
       "      <th>Chest Pain</th>\n",
       "      <th>Lung_Cancer</th>\n",
       "    </tr>\n",
       "  </thead>\n",
       "  <tbody>\n",
       "    <tr>\n",
       "      <th>0</th>\n",
       "      <td>Male</td>\n",
       "      <td>69</td>\n",
       "      <td>0</td>\n",
       "      <td>1</td>\n",
       "      <td>1</td>\n",
       "      <td>0</td>\n",
       "      <td>0</td>\n",
       "      <td>1</td>\n",
       "      <td>0</td>\n",
       "      <td>1</td>\n",
       "      <td>1</td>\n",
       "      <td>1</td>\n",
       "      <td>1</td>\n",
       "      <td>1</td>\n",
       "      <td>1</td>\n",
       "      <td>YES</td>\n",
       "    </tr>\n",
       "    <tr>\n",
       "      <th>1</th>\n",
       "      <td>Male</td>\n",
       "      <td>74</td>\n",
       "      <td>1</td>\n",
       "      <td>0</td>\n",
       "      <td>0</td>\n",
       "      <td>0</td>\n",
       "      <td>1</td>\n",
       "      <td>1</td>\n",
       "      <td>1</td>\n",
       "      <td>0</td>\n",
       "      <td>0</td>\n",
       "      <td>0</td>\n",
       "      <td>1</td>\n",
       "      <td>1</td>\n",
       "      <td>1</td>\n",
       "      <td>YES</td>\n",
       "    </tr>\n",
       "    <tr>\n",
       "      <th>2</th>\n",
       "      <td>Female</td>\n",
       "      <td>59</td>\n",
       "      <td>0</td>\n",
       "      <td>0</td>\n",
       "      <td>0</td>\n",
       "      <td>1</td>\n",
       "      <td>0</td>\n",
       "      <td>1</td>\n",
       "      <td>0</td>\n",
       "      <td>1</td>\n",
       "      <td>0</td>\n",
       "      <td>1</td>\n",
       "      <td>1</td>\n",
       "      <td>0</td>\n",
       "      <td>1</td>\n",
       "      <td>NO</td>\n",
       "    </tr>\n",
       "    <tr>\n",
       "      <th>3</th>\n",
       "      <td>Male</td>\n",
       "      <td>63</td>\n",
       "      <td>1</td>\n",
       "      <td>1</td>\n",
       "      <td>1</td>\n",
       "      <td>0</td>\n",
       "      <td>0</td>\n",
       "      <td>0</td>\n",
       "      <td>0</td>\n",
       "      <td>0</td>\n",
       "      <td>1</td>\n",
       "      <td>0</td>\n",
       "      <td>0</td>\n",
       "      <td>1</td>\n",
       "      <td>1</td>\n",
       "      <td>NO</td>\n",
       "    </tr>\n",
       "    <tr>\n",
       "      <th>4</th>\n",
       "      <td>Female</td>\n",
       "      <td>63</td>\n",
       "      <td>0</td>\n",
       "      <td>1</td>\n",
       "      <td>0</td>\n",
       "      <td>0</td>\n",
       "      <td>0</td>\n",
       "      <td>0</td>\n",
       "      <td>0</td>\n",
       "      <td>1</td>\n",
       "      <td>0</td>\n",
       "      <td>1</td>\n",
       "      <td>1</td>\n",
       "      <td>0</td>\n",
       "      <td>0</td>\n",
       "      <td>NO</td>\n",
       "    </tr>\n",
       "    <tr>\n",
       "      <th>5</th>\n",
       "      <td>Female</td>\n",
       "      <td>75</td>\n",
       "      <td>0</td>\n",
       "      <td>1</td>\n",
       "      <td>0</td>\n",
       "      <td>0</td>\n",
       "      <td>1</td>\n",
       "      <td>1</td>\n",
       "      <td>1</td>\n",
       "      <td>1</td>\n",
       "      <td>0</td>\n",
       "      <td>1</td>\n",
       "      <td>1</td>\n",
       "      <td>0</td>\n",
       "      <td>0</td>\n",
       "      <td>YES</td>\n",
       "    </tr>\n",
       "    <tr>\n",
       "      <th>6</th>\n",
       "      <td>Male</td>\n",
       "      <td>52</td>\n",
       "      <td>1</td>\n",
       "      <td>0</td>\n",
       "      <td>0</td>\n",
       "      <td>0</td>\n",
       "      <td>0</td>\n",
       "      <td>1</td>\n",
       "      <td>0</td>\n",
       "      <td>1</td>\n",
       "      <td>1</td>\n",
       "      <td>1</td>\n",
       "      <td>1</td>\n",
       "      <td>0</td>\n",
       "      <td>1</td>\n",
       "      <td>YES</td>\n",
       "    </tr>\n",
       "    <tr>\n",
       "      <th>7</th>\n",
       "      <td>Female</td>\n",
       "      <td>51</td>\n",
       "      <td>1</td>\n",
       "      <td>1</td>\n",
       "      <td>1</td>\n",
       "      <td>1</td>\n",
       "      <td>0</td>\n",
       "      <td>1</td>\n",
       "      <td>1</td>\n",
       "      <td>0</td>\n",
       "      <td>0</td>\n",
       "      <td>0</td>\n",
       "      <td>1</td>\n",
       "      <td>1</td>\n",
       "      <td>0</td>\n",
       "      <td>YES</td>\n",
       "    </tr>\n",
       "    <tr>\n",
       "      <th>8</th>\n",
       "      <td>Female</td>\n",
       "      <td>68</td>\n",
       "      <td>1</td>\n",
       "      <td>0</td>\n",
       "      <td>1</td>\n",
       "      <td>0</td>\n",
       "      <td>0</td>\n",
       "      <td>1</td>\n",
       "      <td>0</td>\n",
       "      <td>0</td>\n",
       "      <td>0</td>\n",
       "      <td>0</td>\n",
       "      <td>0</td>\n",
       "      <td>0</td>\n",
       "      <td>0</td>\n",
       "      <td>NO</td>\n",
       "    </tr>\n",
       "    <tr>\n",
       "      <th>9</th>\n",
       "      <td>Male</td>\n",
       "      <td>53</td>\n",
       "      <td>1</td>\n",
       "      <td>1</td>\n",
       "      <td>1</td>\n",
       "      <td>1</td>\n",
       "      <td>1</td>\n",
       "      <td>0</td>\n",
       "      <td>1</td>\n",
       "      <td>0</td>\n",
       "      <td>1</td>\n",
       "      <td>0</td>\n",
       "      <td>0</td>\n",
       "      <td>1</td>\n",
       "      <td>1</td>\n",
       "      <td>YES</td>\n",
       "    </tr>\n",
       "  </tbody>\n",
       "</table>\n",
       "</div>"
      ],
      "text/plain": [
       "   Gender  Age  Smoking  Yellow_Fingers  Anxiety  Peer_Pressure  \\\n",
       "0    Male   69        0               1        1              0   \n",
       "1    Male   74        1               0        0              0   \n",
       "2  Female   59        0               0        0              1   \n",
       "3    Male   63        1               1        1              0   \n",
       "4  Female   63        0               1        0              0   \n",
       "5  Female   75        0               1        0              0   \n",
       "6    Male   52        1               0        0              0   \n",
       "7  Female   51        1               1        1              1   \n",
       "8  Female   68        1               0        1              0   \n",
       "9    Male   53        1               1        1              1   \n",
       "\n",
       "   Chronic Disease  Fatigue   Allergy   Wheezing  Alcohol Consuming  Coughing  \\\n",
       "0                0         1         0         1                  1         1   \n",
       "1                1         1         1         0                  0         0   \n",
       "2                0         1         0         1                  0         1   \n",
       "3                0         0         0         0                  1         0   \n",
       "4                0         0         0         1                  0         1   \n",
       "5                1         1         1         1                  0         1   \n",
       "6                0         1         0         1                  1         1   \n",
       "7                0         1         1         0                  0         0   \n",
       "8                0         1         0         0                  0         0   \n",
       "9                1         0         1         0                  1         0   \n",
       "\n",
       "   Shortness Of Breath  Swallowing Difficulty  Chest Pain Lung_Cancer  \n",
       "0                    1                      1           1         YES  \n",
       "1                    1                      1           1         YES  \n",
       "2                    1                      0           1          NO  \n",
       "3                    0                      1           1          NO  \n",
       "4                    1                      0           0          NO  \n",
       "5                    1                      0           0         YES  \n",
       "6                    1                      0           1         YES  \n",
       "7                    1                      1           0         YES  \n",
       "8                    0                      0           0          NO  \n",
       "9                    0                      1           1         YES  "
      ]
     },
     "execution_count": 12,
     "metadata": {},
     "output_type": "execute_result"
    }
   ],
   "source": [
    "#Verify Changes\n",
    "dataset.head(10)"
   ]
  },
  {
   "cell_type": "code",
   "execution_count": 13,
   "id": "a9b4ba0c",
   "metadata": {
    "colab": {
     "base_uri": "https://localhost:8080/",
     "height": 485
    },
    "id": "a9b4ba0c",
    "outputId": "d716ab99-5c3b-45dc-ae38-275ea83be414",
    "papermill": {
     "duration": 0.03687,
     "end_time": "2022-08-11T19:25:12.765734",
     "exception": false,
     "start_time": "2022-08-11T19:25:12.728864",
     "status": "completed"
    },
    "tags": []
   },
   "outputs": [
    {
     "data": {
      "text/html": [
       "<div>\n",
       "<style scoped>\n",
       "    .dataframe tbody tr th:only-of-type {\n",
       "        vertical-align: middle;\n",
       "    }\n",
       "\n",
       "    .dataframe tbody tr th {\n",
       "        vertical-align: top;\n",
       "    }\n",
       "\n",
       "    .dataframe thead th {\n",
       "        text-align: right;\n",
       "    }\n",
       "</style>\n",
       "<table border=\"1\" class=\"dataframe\">\n",
       "  <thead>\n",
       "    <tr style=\"text-align: right;\">\n",
       "      <th></th>\n",
       "      <th>Gender</th>\n",
       "      <th>Age</th>\n",
       "      <th>Smoking</th>\n",
       "      <th>Yellow_Fingers</th>\n",
       "      <th>Anxiety</th>\n",
       "      <th>Peer_Pressure</th>\n",
       "      <th>Chronic Disease</th>\n",
       "      <th>Fatigue</th>\n",
       "      <th>Allergy</th>\n",
       "      <th>Wheezing</th>\n",
       "      <th>Alcohol Consuming</th>\n",
       "      <th>Coughing</th>\n",
       "      <th>Shortness Of Breath</th>\n",
       "      <th>Swallowing Difficulty</th>\n",
       "      <th>Chest Pain</th>\n",
       "      <th>Lung_Cancer</th>\n",
       "    </tr>\n",
       "  </thead>\n",
       "  <tbody>\n",
       "    <tr>\n",
       "      <th>0</th>\n",
       "      <td>Male</td>\n",
       "      <td>69</td>\n",
       "      <td>0</td>\n",
       "      <td>1</td>\n",
       "      <td>1</td>\n",
       "      <td>0</td>\n",
       "      <td>0</td>\n",
       "      <td>1</td>\n",
       "      <td>0</td>\n",
       "      <td>1</td>\n",
       "      <td>1</td>\n",
       "      <td>1</td>\n",
       "      <td>1</td>\n",
       "      <td>1</td>\n",
       "      <td>1</td>\n",
       "      <td>YES</td>\n",
       "    </tr>\n",
       "    <tr>\n",
       "      <th>1</th>\n",
       "      <td>Male</td>\n",
       "      <td>74</td>\n",
       "      <td>1</td>\n",
       "      <td>0</td>\n",
       "      <td>0</td>\n",
       "      <td>0</td>\n",
       "      <td>1</td>\n",
       "      <td>1</td>\n",
       "      <td>1</td>\n",
       "      <td>0</td>\n",
       "      <td>0</td>\n",
       "      <td>0</td>\n",
       "      <td>1</td>\n",
       "      <td>1</td>\n",
       "      <td>1</td>\n",
       "      <td>YES</td>\n",
       "    </tr>\n",
       "    <tr>\n",
       "      <th>2</th>\n",
       "      <td>Female</td>\n",
       "      <td>59</td>\n",
       "      <td>0</td>\n",
       "      <td>0</td>\n",
       "      <td>0</td>\n",
       "      <td>1</td>\n",
       "      <td>0</td>\n",
       "      <td>1</td>\n",
       "      <td>0</td>\n",
       "      <td>1</td>\n",
       "      <td>0</td>\n",
       "      <td>1</td>\n",
       "      <td>1</td>\n",
       "      <td>0</td>\n",
       "      <td>1</td>\n",
       "      <td>NO</td>\n",
       "    </tr>\n",
       "    <tr>\n",
       "      <th>3</th>\n",
       "      <td>Male</td>\n",
       "      <td>63</td>\n",
       "      <td>1</td>\n",
       "      <td>1</td>\n",
       "      <td>1</td>\n",
       "      <td>0</td>\n",
       "      <td>0</td>\n",
       "      <td>0</td>\n",
       "      <td>0</td>\n",
       "      <td>0</td>\n",
       "      <td>1</td>\n",
       "      <td>0</td>\n",
       "      <td>0</td>\n",
       "      <td>1</td>\n",
       "      <td>1</td>\n",
       "      <td>NO</td>\n",
       "    </tr>\n",
       "    <tr>\n",
       "      <th>4</th>\n",
       "      <td>Female</td>\n",
       "      <td>63</td>\n",
       "      <td>0</td>\n",
       "      <td>1</td>\n",
       "      <td>0</td>\n",
       "      <td>0</td>\n",
       "      <td>0</td>\n",
       "      <td>0</td>\n",
       "      <td>0</td>\n",
       "      <td>1</td>\n",
       "      <td>0</td>\n",
       "      <td>1</td>\n",
       "      <td>1</td>\n",
       "      <td>0</td>\n",
       "      <td>0</td>\n",
       "      <td>NO</td>\n",
       "    </tr>\n",
       "    <tr>\n",
       "      <th>...</th>\n",
       "      <td>...</td>\n",
       "      <td>...</td>\n",
       "      <td>...</td>\n",
       "      <td>...</td>\n",
       "      <td>...</td>\n",
       "      <td>...</td>\n",
       "      <td>...</td>\n",
       "      <td>...</td>\n",
       "      <td>...</td>\n",
       "      <td>...</td>\n",
       "      <td>...</td>\n",
       "      <td>...</td>\n",
       "      <td>...</td>\n",
       "      <td>...</td>\n",
       "      <td>...</td>\n",
       "      <td>...</td>\n",
       "    </tr>\n",
       "    <tr>\n",
       "      <th>304</th>\n",
       "      <td>Female</td>\n",
       "      <td>56</td>\n",
       "      <td>0</td>\n",
       "      <td>0</td>\n",
       "      <td>0</td>\n",
       "      <td>1</td>\n",
       "      <td>1</td>\n",
       "      <td>1</td>\n",
       "      <td>0</td>\n",
       "      <td>0</td>\n",
       "      <td>1</td>\n",
       "      <td>1</td>\n",
       "      <td>1</td>\n",
       "      <td>1</td>\n",
       "      <td>0</td>\n",
       "      <td>YES</td>\n",
       "    </tr>\n",
       "    <tr>\n",
       "      <th>305</th>\n",
       "      <td>Male</td>\n",
       "      <td>70</td>\n",
       "      <td>1</td>\n",
       "      <td>0</td>\n",
       "      <td>0</td>\n",
       "      <td>0</td>\n",
       "      <td>0</td>\n",
       "      <td>1</td>\n",
       "      <td>1</td>\n",
       "      <td>1</td>\n",
       "      <td>1</td>\n",
       "      <td>1</td>\n",
       "      <td>1</td>\n",
       "      <td>0</td>\n",
       "      <td>1</td>\n",
       "      <td>YES</td>\n",
       "    </tr>\n",
       "    <tr>\n",
       "      <th>306</th>\n",
       "      <td>Male</td>\n",
       "      <td>58</td>\n",
       "      <td>1</td>\n",
       "      <td>0</td>\n",
       "      <td>0</td>\n",
       "      <td>0</td>\n",
       "      <td>0</td>\n",
       "      <td>0</td>\n",
       "      <td>1</td>\n",
       "      <td>1</td>\n",
       "      <td>1</td>\n",
       "      <td>1</td>\n",
       "      <td>0</td>\n",
       "      <td>0</td>\n",
       "      <td>1</td>\n",
       "      <td>YES</td>\n",
       "    </tr>\n",
       "    <tr>\n",
       "      <th>307</th>\n",
       "      <td>Male</td>\n",
       "      <td>67</td>\n",
       "      <td>1</td>\n",
       "      <td>0</td>\n",
       "      <td>1</td>\n",
       "      <td>0</td>\n",
       "      <td>0</td>\n",
       "      <td>1</td>\n",
       "      <td>1</td>\n",
       "      <td>0</td>\n",
       "      <td>1</td>\n",
       "      <td>1</td>\n",
       "      <td>1</td>\n",
       "      <td>0</td>\n",
       "      <td>1</td>\n",
       "      <td>YES</td>\n",
       "    </tr>\n",
       "    <tr>\n",
       "      <th>308</th>\n",
       "      <td>Male</td>\n",
       "      <td>62</td>\n",
       "      <td>0</td>\n",
       "      <td>0</td>\n",
       "      <td>0</td>\n",
       "      <td>1</td>\n",
       "      <td>0</td>\n",
       "      <td>1</td>\n",
       "      <td>1</td>\n",
       "      <td>1</td>\n",
       "      <td>1</td>\n",
       "      <td>0</td>\n",
       "      <td>0</td>\n",
       "      <td>1</td>\n",
       "      <td>0</td>\n",
       "      <td>YES</td>\n",
       "    </tr>\n",
       "  </tbody>\n",
       "</table>\n",
       "<p>309 rows × 16 columns</p>\n",
       "</div>"
      ],
      "text/plain": [
       "     Gender  Age  Smoking  Yellow_Fingers  Anxiety  Peer_Pressure  \\\n",
       "0      Male   69        0               1        1              0   \n",
       "1      Male   74        1               0        0              0   \n",
       "2    Female   59        0               0        0              1   \n",
       "3      Male   63        1               1        1              0   \n",
       "4    Female   63        0               1        0              0   \n",
       "..      ...  ...      ...             ...      ...            ...   \n",
       "304  Female   56        0               0        0              1   \n",
       "305    Male   70        1               0        0              0   \n",
       "306    Male   58        1               0        0              0   \n",
       "307    Male   67        1               0        1              0   \n",
       "308    Male   62        0               0        0              1   \n",
       "\n",
       "     Chronic Disease  Fatigue   Allergy   Wheezing  Alcohol Consuming  \\\n",
       "0                  0         1         0         1                  1   \n",
       "1                  1         1         1         0                  0   \n",
       "2                  0         1         0         1                  0   \n",
       "3                  0         0         0         0                  1   \n",
       "4                  0         0         0         1                  0   \n",
       "..               ...       ...       ...       ...                ...   \n",
       "304                1         1         0         0                  1   \n",
       "305                0         1         1         1                  1   \n",
       "306                0         0         1         1                  1   \n",
       "307                0         1         1         0                  1   \n",
       "308                0         1         1         1                  1   \n",
       "\n",
       "     Coughing  Shortness Of Breath  Swallowing Difficulty  Chest Pain  \\\n",
       "0           1                    1                      1           1   \n",
       "1           0                    1                      1           1   \n",
       "2           1                    1                      0           1   \n",
       "3           0                    0                      1           1   \n",
       "4           1                    1                      0           0   \n",
       "..        ...                  ...                    ...         ...   \n",
       "304         1                    1                      1           0   \n",
       "305         1                    1                      0           1   \n",
       "306         1                    0                      0           1   \n",
       "307         1                    1                      0           1   \n",
       "308         0                    0                      1           0   \n",
       "\n",
       "    Lung_Cancer  \n",
       "0           YES  \n",
       "1           YES  \n",
       "2            NO  \n",
       "3            NO  \n",
       "4            NO  \n",
       "..          ...  \n",
       "304         YES  \n",
       "305         YES  \n",
       "306         YES  \n",
       "307         YES  \n",
       "308         YES  \n",
       "\n",
       "[309 rows x 16 columns]"
      ]
     },
     "execution_count": 13,
     "metadata": {},
     "output_type": "execute_result"
    }
   ],
   "source": [
    "#Print whole table\n",
    "dataset"
   ]
  },
  {
   "cell_type": "markdown",
   "id": "8638bd8f",
   "metadata": {
    "id": "8638bd8f",
    "papermill": {
     "duration": 0.014972,
     "end_time": "2022-08-11T19:25:12.795825",
     "exception": false,
     "start_time": "2022-08-11T19:25:12.780853",
     "status": "completed"
    },
    "tags": []
   },
   "source": [
    "## Feature Engineering"
   ]
  },
  {
   "cell_type": "code",
   "execution_count": 14,
   "id": "eba667c7",
   "metadata": {
    "id": "eba667c7",
    "papermill": {
     "duration": 0.03748,
     "end_time": "2022-08-11T19:25:12.849536",
     "exception": false,
     "start_time": "2022-08-11T19:25:12.812056",
     "status": "completed"
    },
    "tags": []
   },
   "outputs": [],
   "source": [
    "#Store agewise records for better access\n",
    "dataset.loc[(dataset['Age'] >= 0) & (dataset[\"Age\"] <= 9),\"n_age\"]=\"In 0's\"\n",
    "dataset.loc[(dataset['Age'] >= 10) & (dataset[\"Age\"] <= 19),\"n_age\"]=\"In 10's\"\n",
    "dataset.loc[(dataset['Age'] >= 20) & (dataset[\"Age\"] <= 29),\"n_age\"]=\"In 20's\"\n",
    "dataset.loc[(dataset['Age'] >= 30) & (dataset[\"Age\"] <= 39),\"n_age\"]=\"In 30's\"\n",
    "dataset.loc[(dataset['Age'] >= 40) & (dataset[\"Age\"] <= 49),\"n_age\"]=\"In 40's\"\n",
    "dataset.loc[(dataset['Age'] >= 50) & (dataset[\"Age\"] <= 59),\"n_age\"]=\"In 50's\"\n",
    "dataset.loc[(dataset['Age'] >= 60) & (dataset[\"Age\"] <= 69),\"n_age\"]=\"In 60's\"\n",
    "dataset.loc[(dataset['Age'] >= 70) & (dataset[\"Age\"] <= 79),\"n_age\"]=\"In 70's\"\n",
    "dataset.loc[(dataset['Age'] >= 80) & (dataset[\"Age\"] <= 89),\"n_age\"]=\"In 80's\""
   ]
  },
  {
   "cell_type": "markdown",
   "id": "d576deee",
   "metadata": {
    "id": "d576deee",
    "papermill": {
     "duration": 0.01562,
     "end_time": "2022-08-11T19:25:12.880929",
     "exception": false,
     "start_time": "2022-08-11T19:25:12.865309",
     "status": "completed"
    },
    "tags": []
   },
   "source": [
    "## Data Analysis"
   ]
  },
  {
   "cell_type": "code",
   "execution_count": 15,
   "id": "f46eaa55",
   "metadata": {
    "colab": {
     "base_uri": "https://localhost:8080/"
    },
    "id": "f46eaa55",
    "outputId": "e9afc23d-a92c-4bd8-8d1e-88f072a1ec7c",
    "papermill": {
     "duration": 0.025665,
     "end_time": "2022-08-11T19:25:12.922007",
     "exception": false,
     "start_time": "2022-08-11T19:25:12.896342",
     "status": "completed"
    },
    "tags": []
   },
   "outputs": [
    {
     "data": {
      "text/plain": [
       "array(['Male', 'Female'], dtype=object)"
      ]
     },
     "execution_count": 15,
     "metadata": {},
     "output_type": "execute_result"
    }
   ],
   "source": [
    "#Identify Genders\n",
    "dataset[\"Gender\"].unique()"
   ]
  },
  {
   "cell_type": "code",
   "execution_count": 16,
   "id": "3819ae84",
   "metadata": {
    "colab": {
     "base_uri": "https://localhost:8080/"
    },
    "id": "3819ae84",
    "outputId": "6c98a219-c4bc-47a0-fd40-e9c213915c40",
    "papermill": {
     "duration": 0.027688,
     "end_time": "2022-08-11T19:25:12.965113",
     "exception": false,
     "start_time": "2022-08-11T19:25:12.937425",
     "status": "completed"
    },
    "tags": []
   },
   "outputs": [
    {
     "data": {
      "text/plain": [
       "Gender\n",
       "Male      162\n",
       "Female    147\n",
       "Name: count, dtype: int64"
      ]
     },
     "execution_count": 16,
     "metadata": {},
     "output_type": "execute_result"
    }
   ],
   "source": [
    "#Identify number of males and females in records\n",
    "gender_type_count=dataset[\"Gender\"].value_counts()\n",
    "gender_type_count"
   ]
  },
  {
   "cell_type": "code",
   "execution_count": 17,
   "id": "d4455b21",
   "metadata": {
    "colab": {
     "base_uri": "https://localhost:8080/",
     "height": 326
    },
    "id": "d4455b21",
    "outputId": "0f94a624-bed0-4b83-a332-e3e100b37880",
    "papermill": {
     "duration": 0.249693,
     "end_time": "2022-08-11T19:25:13.230305",
     "exception": false,
     "start_time": "2022-08-11T19:25:12.980612",
     "status": "completed"
    },
    "tags": []
   },
   "outputs": [
    {
     "data": {
      "image/png": "[encoded data removed]",
      "text/plain": [
       "<Figure size 500x700 with 1 Axes>"
      ]
     },
     "metadata": {},
     "output_type": "display_data"
    }
   ],
   "source": [
    "#Plotting a pie chart for gender distribution\n",
    "\n",
    "plt.figure(figsize=(5,7))\n",
    "values=gender_type_count.values\n",
    "labels=gender_type_count.index\n",
    "plt.pie(values,labels=labels,autopct='%1.2f%%')\n",
    "plt.title(\"Gender Distribution\")\n",
    "plt.legend([\"Male\",\"Female\"])\n",
    "plt.show()"
   ]
  },
  {
   "cell_type": "code",
   "execution_count": 18,
   "id": "a16e2210",
   "metadata": {
    "colab": {
     "base_uri": "https://localhost:8080/",
     "height": 175
    },
    "id": "a16e2210",
    "outputId": "fc1d2b70-5003-424d-9841-7e4f63f07556",
    "papermill": {
     "duration": 0.046175,
     "end_time": "2022-08-11T19:25:13.304949",
     "exception": false,
     "start_time": "2022-08-11T19:25:13.258774",
     "status": "completed"
    },
    "tags": []
   },
   "outputs": [
    {
     "data": {
      "text/html": [
       "<div>\n",
       "<style scoped>\n",
       "    .dataframe tbody tr th:only-of-type {\n",
       "        vertical-align: middle;\n",
       "    }\n",
       "\n",
       "    .dataframe tbody tr th {\n",
       "        vertical-align: top;\n",
       "    }\n",
       "\n",
       "    .dataframe thead th {\n",
       "        text-align: right;\n",
       "    }\n",
       "</style>\n",
       "<table border=\"1\" class=\"dataframe\">\n",
       "  <thead>\n",
       "    <tr style=\"text-align: right;\">\n",
       "      <th></th>\n",
       "      <th>Gender</th>\n",
       "      <th>Lung_Cancer</th>\n",
       "      <th>total_cancer</th>\n",
       "      <th>minimum_age</th>\n",
       "      <th>maximum_age</th>\n",
       "    </tr>\n",
       "  </thead>\n",
       "  <tbody>\n",
       "    <tr>\n",
       "      <th>0</th>\n",
       "      <td>Female</td>\n",
       "      <td>NO</td>\n",
       "      <td>22</td>\n",
       "      <td>21</td>\n",
       "      <td>87</td>\n",
       "    </tr>\n",
       "    <tr>\n",
       "      <th>1</th>\n",
       "      <td>Female</td>\n",
       "      <td>YES</td>\n",
       "      <td>125</td>\n",
       "      <td>38</td>\n",
       "      <td>81</td>\n",
       "    </tr>\n",
       "    <tr>\n",
       "      <th>2</th>\n",
       "      <td>Male</td>\n",
       "      <td>NO</td>\n",
       "      <td>17</td>\n",
       "      <td>46</td>\n",
       "      <td>69</td>\n",
       "    </tr>\n",
       "    <tr>\n",
       "      <th>3</th>\n",
       "      <td>Male</td>\n",
       "      <td>YES</td>\n",
       "      <td>145</td>\n",
       "      <td>39</td>\n",
       "      <td>79</td>\n",
       "    </tr>\n",
       "  </tbody>\n",
       "</table>\n",
       "</div>"
      ],
      "text/plain": [
       "   Gender Lung_Cancer  total_cancer  minimum_age  maximum_age\n",
       "0  Female          NO            22           21           87\n",
       "1  Female         YES           125           38           81\n",
       "2    Male          NO            17           46           69\n",
       "3    Male         YES           145           39           79"
      ]
     },
     "execution_count": 18,
     "metadata": {},
     "output_type": "execute_result"
    }
   ],
   "source": [
    "#Data in group for genders\n",
    "dataset.groupby([\"Gender\",\"Lung_Cancer\"]).agg(total_cancer=(\"Lung_Cancer\",\"count\"),minimum_age=(\"Age\",\"min\"),maximum_age=(\"Age\",\"max\")).reset_index()"
   ]
  },
  {
   "cell_type": "code",
   "execution_count": 19,
   "id": "06e486c2",
   "metadata": {
    "colab": {
     "base_uri": "https://localhost:8080/",
     "height": 422
    },
    "id": "06e486c2",
    "outputId": "b7a7ffc1-47a8-4c83-ebd7-a93ea0c75801",
    "papermill": {
     "duration": 0.183745,
     "end_time": "2022-08-11T19:25:13.504785",
     "exception": false,
     "start_time": "2022-08-11T19:25:13.321040",
     "status": "completed"
    },
    "tags": []
   },
   "outputs": [
    {
     "data": {
      "text/plain": [
       "Text(0.5, 1.0, 'Gender Vs. Lung Cancer')"
      ]
     },
     "execution_count": 19,
     "metadata": {},
     "output_type": "execute_result"
    },
    {
     "data": {
      "image/png": "[encoded data removed]",
      "text/plain": [
       "<Figure size 600x600 with 1 Axes>"
      ]
     },
     "metadata": {},
     "output_type": "display_data"
    }
   ],
   "source": [
    "#Plot Chart for Group Data Distribution\n",
    "plt.figure(figsize=(6,6))\n",
    "sns.countplot(data=dataset,y=\"Gender\",hue=\"Lung_Cancer\")\n",
    "plt.title(\"Gender Vs. Lung Cancer\")"
   ]
  },
  {
   "cell_type": "markdown",
   "id": "71f1c356",
   "metadata": {
    "id": "71f1c356",
    "papermill": {
     "duration": 0.015956,
     "end_time": "2022-08-11T19:25:13.537188",
     "exception": false,
     "start_time": "2022-08-11T19:25:13.521232",
     "status": "completed"
    },
    "tags": []
   },
   "source": [
    "## Identify Age Factor"
   ]
  },
  {
   "cell_type": "code",
   "execution_count": 20,
   "id": "8e7c8a87",
   "metadata": {
    "colab": {
     "base_uri": "https://localhost:8080/"
    },
    "id": "8e7c8a87",
    "outputId": "eb395db1-5653-40c8-9192-22fd2e2abeb8",
    "papermill": {
     "duration": 0.02762,
     "end_time": "2022-08-11T19:25:13.581500",
     "exception": false,
     "start_time": "2022-08-11T19:25:13.553880",
     "status": "completed"
    },
    "tags": []
   },
   "outputs": [
    {
     "data": {
      "text/plain": [
       "21"
      ]
     },
     "execution_count": 20,
     "metadata": {},
     "output_type": "execute_result"
    }
   ],
   "source": [
    "#Print minimum age\n",
    "dataset[\"Age\"].min()"
   ]
  },
  {
   "cell_type": "code",
   "execution_count": 21,
   "id": "20876c44",
   "metadata": {
    "colab": {
     "base_uri": "https://localhost:8080/"
    },
    "id": "20876c44",
    "outputId": "8381792f-c8aa-4cc4-97d8-2845473ba39a",
    "papermill": {
     "duration": 0.028482,
     "end_time": "2022-08-11T19:25:13.627056",
     "exception": false,
     "start_time": "2022-08-11T19:25:13.598574",
     "status": "completed"
    },
    "tags": []
   },
   "outputs": [
    {
     "data": {
      "text/plain": [
       "87"
      ]
     },
     "execution_count": 21,
     "metadata": {},
     "output_type": "execute_result"
    }
   ],
   "source": [
    "#Print maximum age\n",
    "dataset[\"Age\"].max()"
   ]
  },
  {
   "cell_type": "code",
   "execution_count": 22,
   "id": "6eaf0a08",
   "metadata": {
    "colab": {
     "base_uri": "https://localhost:8080/",
     "height": 485
    },
    "id": "6eaf0a08",
    "outputId": "9936396e-b216-45f9-d73c-6efcd65e5c8e",
    "papermill": {
     "duration": 0.041905,
     "end_time": "2022-08-11T19:25:13.686294",
     "exception": false,
     "start_time": "2022-08-11T19:25:13.644389",
     "status": "completed"
    },
    "tags": []
   },
   "outputs": [
    {
     "data": {
      "text/html": [
       "<div>\n",
       "<style scoped>\n",
       "    .dataframe tbody tr th:only-of-type {\n",
       "        vertical-align: middle;\n",
       "    }\n",
       "\n",
       "    .dataframe tbody tr th {\n",
       "        vertical-align: top;\n",
       "    }\n",
       "\n",
       "    .dataframe thead th {\n",
       "        text-align: right;\n",
       "    }\n",
       "</style>\n",
       "<table border=\"1\" class=\"dataframe\">\n",
       "  <thead>\n",
       "    <tr style=\"text-align: right;\">\n",
       "      <th></th>\n",
       "      <th>Gender</th>\n",
       "      <th>Age</th>\n",
       "      <th>Smoking</th>\n",
       "      <th>Yellow_Fingers</th>\n",
       "      <th>Anxiety</th>\n",
       "      <th>Peer_Pressure</th>\n",
       "      <th>Chronic Disease</th>\n",
       "      <th>Fatigue</th>\n",
       "      <th>Allergy</th>\n",
       "      <th>Wheezing</th>\n",
       "      <th>Alcohol Consuming</th>\n",
       "      <th>Coughing</th>\n",
       "      <th>Shortness Of Breath</th>\n",
       "      <th>Swallowing Difficulty</th>\n",
       "      <th>Chest Pain</th>\n",
       "      <th>Lung_Cancer</th>\n",
       "      <th>n_age</th>\n",
       "    </tr>\n",
       "  </thead>\n",
       "  <tbody>\n",
       "    <tr>\n",
       "      <th>0</th>\n",
       "      <td>Male</td>\n",
       "      <td>69</td>\n",
       "      <td>0</td>\n",
       "      <td>1</td>\n",
       "      <td>1</td>\n",
       "      <td>0</td>\n",
       "      <td>0</td>\n",
       "      <td>1</td>\n",
       "      <td>0</td>\n",
       "      <td>1</td>\n",
       "      <td>1</td>\n",
       "      <td>1</td>\n",
       "      <td>1</td>\n",
       "      <td>1</td>\n",
       "      <td>1</td>\n",
       "      <td>YES</td>\n",
       "      <td>In 60's</td>\n",
       "    </tr>\n",
       "    <tr>\n",
       "      <th>1</th>\n",
       "      <td>Male</td>\n",
       "      <td>74</td>\n",
       "      <td>1</td>\n",
       "      <td>0</td>\n",
       "      <td>0</td>\n",
       "      <td>0</td>\n",
       "      <td>1</td>\n",
       "      <td>1</td>\n",
       "      <td>1</td>\n",
       "      <td>0</td>\n",
       "      <td>0</td>\n",
       "      <td>0</td>\n",
       "      <td>1</td>\n",
       "      <td>1</td>\n",
       "      <td>1</td>\n",
       "      <td>YES</td>\n",
       "      <td>In 70's</td>\n",
       "    </tr>\n",
       "    <tr>\n",
       "      <th>2</th>\n",
       "      <td>Female</td>\n",
       "      <td>59</td>\n",
       "      <td>0</td>\n",
       "      <td>0</td>\n",
       "      <td>0</td>\n",
       "      <td>1</td>\n",
       "      <td>0</td>\n",
       "      <td>1</td>\n",
       "      <td>0</td>\n",
       "      <td>1</td>\n",
       "      <td>0</td>\n",
       "      <td>1</td>\n",
       "      <td>1</td>\n",
       "      <td>0</td>\n",
       "      <td>1</td>\n",
       "      <td>NO</td>\n",
       "      <td>In 50's</td>\n",
       "    </tr>\n",
       "    <tr>\n",
       "      <th>3</th>\n",
       "      <td>Male</td>\n",
       "      <td>63</td>\n",
       "      <td>1</td>\n",
       "      <td>1</td>\n",
       "      <td>1</td>\n",
       "      <td>0</td>\n",
       "      <td>0</td>\n",
       "      <td>0</td>\n",
       "      <td>0</td>\n",
       "      <td>0</td>\n",
       "      <td>1</td>\n",
       "      <td>0</td>\n",
       "      <td>0</td>\n",
       "      <td>1</td>\n",
       "      <td>1</td>\n",
       "      <td>NO</td>\n",
       "      <td>In 60's</td>\n",
       "    </tr>\n",
       "    <tr>\n",
       "      <th>4</th>\n",
       "      <td>Female</td>\n",
       "      <td>63</td>\n",
       "      <td>0</td>\n",
       "      <td>1</td>\n",
       "      <td>0</td>\n",
       "      <td>0</td>\n",
       "      <td>0</td>\n",
       "      <td>0</td>\n",
       "      <td>0</td>\n",
       "      <td>1</td>\n",
       "      <td>0</td>\n",
       "      <td>1</td>\n",
       "      <td>1</td>\n",
       "      <td>0</td>\n",
       "      <td>0</td>\n",
       "      <td>NO</td>\n",
       "      <td>In 60's</td>\n",
       "    </tr>\n",
       "    <tr>\n",
       "      <th>...</th>\n",
       "      <td>...</td>\n",
       "      <td>...</td>\n",
       "      <td>...</td>\n",
       "      <td>...</td>\n",
       "      <td>...</td>\n",
       "      <td>...</td>\n",
       "      <td>...</td>\n",
       "      <td>...</td>\n",
       "      <td>...</td>\n",
       "      <td>...</td>\n",
       "      <td>...</td>\n",
       "      <td>...</td>\n",
       "      <td>...</td>\n",
       "      <td>...</td>\n",
       "      <td>...</td>\n",
       "      <td>...</td>\n",
       "      <td>...</td>\n",
       "    </tr>\n",
       "    <tr>\n",
       "      <th>304</th>\n",
       "      <td>Female</td>\n",
       "      <td>56</td>\n",
       "      <td>0</td>\n",
       "      <td>0</td>\n",
       "      <td>0</td>\n",
       "      <td>1</td>\n",
       "      <td>1</td>\n",
       "      <td>1</td>\n",
       "      <td>0</td>\n",
       "      <td>0</td>\n",
       "      <td>1</td>\n",
       "      <td>1</td>\n",
       "      <td>1</td>\n",
       "      <td>1</td>\n",
       "      <td>0</td>\n",
       "      <td>YES</td>\n",
       "      <td>In 50's</td>\n",
       "    </tr>\n",
       "    <tr>\n",
       "      <th>305</th>\n",
       "      <td>Male</td>\n",
       "      <td>70</td>\n",
       "      <td>1</td>\n",
       "      <td>0</td>\n",
       "      <td>0</td>\n",
       "      <td>0</td>\n",
       "      <td>0</td>\n",
       "      <td>1</td>\n",
       "      <td>1</td>\n",
       "      <td>1</td>\n",
       "      <td>1</td>\n",
       "      <td>1</td>\n",
       "      <td>1</td>\n",
       "      <td>0</td>\n",
       "      <td>1</td>\n",
       "      <td>YES</td>\n",
       "      <td>In 70's</td>\n",
       "    </tr>\n",
       "    <tr>\n",
       "      <th>306</th>\n",
       "      <td>Male</td>\n",
       "      <td>58</td>\n",
       "      <td>1</td>\n",
       "      <td>0</td>\n",
       "      <td>0</td>\n",
       "      <td>0</td>\n",
       "      <td>0</td>\n",
       "      <td>0</td>\n",
       "      <td>1</td>\n",
       "      <td>1</td>\n",
       "      <td>1</td>\n",
       "      <td>1</td>\n",
       "      <td>0</td>\n",
       "      <td>0</td>\n",
       "      <td>1</td>\n",
       "      <td>YES</td>\n",
       "      <td>In 50's</td>\n",
       "    </tr>\n",
       "    <tr>\n",
       "      <th>307</th>\n",
       "      <td>Male</td>\n",
       "      <td>67</td>\n",
       "      <td>1</td>\n",
       "      <td>0</td>\n",
       "      <td>1</td>\n",
       "      <td>0</td>\n",
       "      <td>0</td>\n",
       "      <td>1</td>\n",
       "      <td>1</td>\n",
       "      <td>0</td>\n",
       "      <td>1</td>\n",
       "      <td>1</td>\n",
       "      <td>1</td>\n",
       "      <td>0</td>\n",
       "      <td>1</td>\n",
       "      <td>YES</td>\n",
       "      <td>In 60's</td>\n",
       "    </tr>\n",
       "    <tr>\n",
       "      <th>308</th>\n",
       "      <td>Male</td>\n",
       "      <td>62</td>\n",
       "      <td>0</td>\n",
       "      <td>0</td>\n",
       "      <td>0</td>\n",
       "      <td>1</td>\n",
       "      <td>0</td>\n",
       "      <td>1</td>\n",
       "      <td>1</td>\n",
       "      <td>1</td>\n",
       "      <td>1</td>\n",
       "      <td>0</td>\n",
       "      <td>0</td>\n",
       "      <td>1</td>\n",
       "      <td>0</td>\n",
       "      <td>YES</td>\n",
       "      <td>In 60's</td>\n",
       "    </tr>\n",
       "  </tbody>\n",
       "</table>\n",
       "<p>309 rows × 17 columns</p>\n",
       "</div>"
      ],
      "text/plain": [
       "     Gender  Age  Smoking  Yellow_Fingers  Anxiety  Peer_Pressure  \\\n",
       "0      Male   69        0               1        1              0   \n",
       "1      Male   74        1               0        0              0   \n",
       "2    Female   59        0               0        0              1   \n",
       "3      Male   63        1               1        1              0   \n",
       "4    Female   63        0               1        0              0   \n",
       "..      ...  ...      ...             ...      ...            ...   \n",
       "304  Female   56        0               0        0              1   \n",
       "305    Male   70        1               0        0              0   \n",
       "306    Male   58        1               0        0              0   \n",
       "307    Male   67        1               0        1              0   \n",
       "308    Male   62        0               0        0              1   \n",
       "\n",
       "     Chronic Disease  Fatigue   Allergy   Wheezing  Alcohol Consuming  \\\n",
       "0                  0         1         0         1                  1   \n",
       "1                  1         1         1         0                  0   \n",
       "2                  0         1         0         1                  0   \n",
       "3                  0         0         0         0                  1   \n",
       "4                  0         0         0         1                  0   \n",
       "..               ...       ...       ...       ...                ...   \n",
       "304                1         1         0         0                  1   \n",
       "305                0         1         1         1                  1   \n",
       "306                0         0         1         1                  1   \n",
       "307                0         1         1         0                  1   \n",
       "308                0         1         1         1                  1   \n",
       "\n",
       "     Coughing  Shortness Of Breath  Swallowing Difficulty  Chest Pain  \\\n",
       "0           1                    1                      1           1   \n",
       "1           0                    1                      1           1   \n",
       "2           1                    1                      0           1   \n",
       "3           0                    0                      1           1   \n",
       "4           1                    1                      0           0   \n",
       "..        ...                  ...                    ...         ...   \n",
       "304         1                    1                      1           0   \n",
       "305         1                    1                      0           1   \n",
       "306         1                    0                      0           1   \n",
       "307         1                    1                      0           1   \n",
       "308         0                    0                      1           0   \n",
       "\n",
       "    Lung_Cancer    n_age  \n",
       "0           YES  In 60's  \n",
       "1           YES  In 70's  \n",
       "2            NO  In 50's  \n",
       "3            NO  In 60's  \n",
       "4            NO  In 60's  \n",
       "..          ...      ...  \n",
       "304         YES  In 50's  \n",
       "305         YES  In 70's  \n",
       "306         YES  In 50's  \n",
       "307         YES  In 60's  \n",
       "308         YES  In 60's  \n",
       "\n",
       "[309 rows x 17 columns]"
      ]
     },
     "execution_count": 22,
     "metadata": {},
     "output_type": "execute_result"
    }
   ],
   "source": [
    "#Print whole dataset\n",
    "dataset"
   ]
  },
  {
   "cell_type": "code",
   "execution_count": 23,
   "id": "604a8de6",
   "metadata": {
    "colab": {
     "base_uri": "https://localhost:8080/",
     "height": 404
    },
    "id": "604a8de6",
    "outputId": "8d5c68be-875b-4dea-cf7c-7355f60442f5",
    "papermill": {
     "duration": 0.226777,
     "end_time": "2022-08-11T19:25:13.931087",
     "exception": false,
     "start_time": "2022-08-11T19:25:13.704310",
     "status": "completed"
    },
    "tags": []
   },
   "outputs": [
    {
     "data": {
      "image/png": "[encoded data removed]",
      "text/plain": [
       "<Figure size 800x600 with 1 Axes>"
      ]
     },
     "metadata": {},
     "output_type": "display_data"
    }
   ],
   "source": [
    "#Plot chart for age distribution\n",
    "plt.figure(figsize=(8,6))\n",
    "sns.countplot(y=\"n_age\",hue=\"Gender\",data=dataset) #n_age is the label taken from feature enginnering\n",
    "\n",
    "#Details\n",
    "plt.title(\"Age Distribution\")\n",
    "plt.xlabel(\"Age\")\n",
    "plt.ylabel(\"Frequency\")\n",
    "\n",
    "#Print\n",
    "plt.show()"
   ]
  },
  {
   "cell_type": "markdown",
   "id": "5b14cfbc",
   "metadata": {
    "id": "5b14cfbc",
    "papermill": {
     "duration": 0.016765,
     "end_time": "2022-08-11T19:25:13.965161",
     "exception": false,
     "start_time": "2022-08-11T19:25:13.948396",
     "status": "completed"
    },
    "tags": []
   },
   "source": [
    "## Alcohol Consumption Factor"
   ]
  },
  {
   "cell_type": "code",
   "execution_count": 24,
   "id": "387d10b2",
   "metadata": {
    "colab": {
     "base_uri": "https://localhost:8080/"
    },
    "id": "387d10b2",
    "outputId": "bffd566e-52ad-4566-891f-6dd5a7bef322",
    "papermill": {
     "duration": 0.028294,
     "end_time": "2022-08-11T19:25:14.010858",
     "exception": false,
     "start_time": "2022-08-11T19:25:13.982564",
     "status": "completed"
    },
    "tags": []
   },
   "outputs": [
    {
     "data": {
      "text/plain": [
       "array([1, 0])"
      ]
     },
     "execution_count": 24,
     "metadata": {},
     "output_type": "execute_result"
    }
   ],
   "source": [
    "#identify all types of unique values present in column \"Alcohol Consuming\"\n",
    "dataset[\"Alcohol Consuming\"].unique()"
   ]
  },
  {
   "cell_type": "code",
   "execution_count": 25,
   "id": "75188d8f",
   "metadata": {
    "colab": {
     "base_uri": "https://localhost:8080/"
    },
    "id": "75188d8f",
    "outputId": "d70727e5-2393-43d4-f51f-7f41a491eec3",
    "papermill": {
     "duration": 0.029993,
     "end_time": "2022-08-11T19:25:14.058267",
     "exception": false,
     "start_time": "2022-08-11T19:25:14.028274",
     "status": "completed"
    },
    "tags": []
   },
   "outputs": [
    {
     "data": {
      "text/plain": [
       "Alcohol Consuming\n",
       "1    172\n",
       "0    137\n",
       "Name: count, dtype: int64"
      ]
     },
     "execution_count": 25,
     "metadata": {},
     "output_type": "execute_result"
    }
   ],
   "source": [
    "#Find the number of people who drink and those who don't\n",
    "alcohol_con=dataset[\"Alcohol Consuming\"].value_counts(sort=True)\n",
    "alcohol_con"
   ]
  },
  {
   "cell_type": "code",
   "execution_count": 26,
   "id": "6dcc87d6",
   "metadata": {
    "colab": {
     "base_uri": "https://localhost:8080/",
     "height": 373
    },
    "id": "6dcc87d6",
    "outputId": "490acbab-8d84-46b8-a1ee-1af933fb1078",
    "papermill": {
     "duration": 0.12145,
     "end_time": "2022-08-11T19:25:14.197129",
     "exception": false,
     "start_time": "2022-08-11T19:25:14.075679",
     "status": "completed"
    },
    "tags": []
   },
   "outputs": [
    {
     "data": {
      "image/png": "[encoded data removed]",
      "text/plain": [
       "<Figure size 800x600 with 1 Axes>"
      ]
     },
     "metadata": {},
     "output_type": "display_data"
    }
   ],
   "source": [
    "#Plot Alochol Disyrubution using Pie Chart\n",
    "labels=alcohol_con.index\n",
    "values=alcohol_con.values\n",
    "plt.figure(figsize=(8,6))\n",
    "plt.pie(values,labels=labels,autopct='%1.2f%%')\n",
    "plt.title(\"Alcohol Distribution.\")\n",
    "plt.legend([\"Alcoholic\",\"Not Alcoholic\"],loc=\"upper right\") #To print ref box\n",
    "plt.show()"
   ]
  },
  {
   "cell_type": "code",
   "execution_count": 27,
   "id": "e4252413",
   "metadata": {
    "colab": {
     "base_uri": "https://localhost:8080/",
     "height": 206
    },
    "id": "e4252413",
    "outputId": "9a616c87-a6a1-4946-c0e0-18b98427168d",
    "papermill": {
     "duration": 0.040304,
     "end_time": "2022-08-11T19:25:14.256011",
     "exception": false,
     "start_time": "2022-08-11T19:25:14.215707",
     "status": "completed"
    },
    "tags": []
   },
   "outputs": [
    {
     "data": {
      "text/html": [
       "<div>\n",
       "<style scoped>\n",
       "    .dataframe tbody tr th:only-of-type {\n",
       "        vertical-align: middle;\n",
       "    }\n",
       "\n",
       "    .dataframe tbody tr th {\n",
       "        vertical-align: top;\n",
       "    }\n",
       "\n",
       "    .dataframe thead th {\n",
       "        text-align: right;\n",
       "    }\n",
       "</style>\n",
       "<table border=\"1\" class=\"dataframe\">\n",
       "  <thead>\n",
       "    <tr style=\"text-align: right;\">\n",
       "      <th></th>\n",
       "      <th></th>\n",
       "      <th>Total</th>\n",
       "    </tr>\n",
       "    <tr>\n",
       "      <th>Alcohol Consuming</th>\n",
       "      <th>Lung_Cancer</th>\n",
       "      <th></th>\n",
       "    </tr>\n",
       "  </thead>\n",
       "  <tbody>\n",
       "    <tr>\n",
       "      <th rowspan=\"2\" valign=\"top\">0</th>\n",
       "      <th>NO</th>\n",
       "      <td>32</td>\n",
       "    </tr>\n",
       "    <tr>\n",
       "      <th>YES</th>\n",
       "      <td>105</td>\n",
       "    </tr>\n",
       "    <tr>\n",
       "      <th rowspan=\"2\" valign=\"top\">1</th>\n",
       "      <th>NO</th>\n",
       "      <td>7</td>\n",
       "    </tr>\n",
       "    <tr>\n",
       "      <th>YES</th>\n",
       "      <td>165</td>\n",
       "    </tr>\n",
       "  </tbody>\n",
       "</table>\n",
       "</div>"
      ],
      "text/plain": [
       "                               Total\n",
       "Alcohol Consuming Lung_Cancer       \n",
       "0                 NO              32\n",
       "                  YES            105\n",
       "1                 NO               7\n",
       "                  YES            165"
      ]
     },
     "execution_count": 27,
     "metadata": {},
     "output_type": "execute_result"
    }
   ],
   "source": [
    "#Build Table to see the impact of alcohol Consumption on Lung Cancer\n",
    "dataset.groupby([\"Alcohol Consuming\",\"Lung_Cancer\"]).agg(Total=(\"Lung_Cancer\",\"count\"))"
   ]
  },
  {
   "cell_type": "code",
   "execution_count": 28,
   "id": "c3d8cff4",
   "metadata": {
    "colab": {
     "base_uri": "https://localhost:8080/",
     "height": 422
    },
    "id": "c3d8cff4",
    "outputId": "df540a53-79f4-475a-ad74-8cf757cb9e9c",
    "papermill": {
     "duration": 0.176766,
     "end_time": "2022-08-11T19:25:14.451757",
     "exception": false,
     "start_time": "2022-08-11T19:25:14.274991",
     "status": "completed"
    },
    "tags": []
   },
   "outputs": [
    {
     "data": {
      "text/plain": [
       "Text(0.5, 1.0, 'Alcohol Vs. Lung Cancer')"
      ]
     },
     "execution_count": 28,
     "metadata": {},
     "output_type": "execute_result"
    },
    {
     "data": {
      "image/png": "[encoded data removed]",
      "text/plain": [
       "<Figure size 600x600 with 1 Axes>"
      ]
     },
     "metadata": {},
     "output_type": "display_data"
    }
   ],
   "source": [
    "#Plot Chart for Alcohol and Lung Cancer Data Distribution\n",
    "plt.figure(figsize=(6,6))\n",
    "sns.countplot(data=dataset,x=\"Alcohol Consuming\",hue=\"Lung_Cancer\")\n",
    "plt.title(\"Alcohol Vs. Lung Cancer\")"
   ]
  },
  {
   "cell_type": "markdown",
   "id": "5617fec0",
   "metadata": {
    "id": "5617fec0",
    "papermill": {
     "duration": 0.019175,
     "end_time": "2022-08-11T19:25:14.490148",
     "exception": false,
     "start_time": "2022-08-11T19:25:14.470973",
     "status": "completed"
    },
    "tags": []
   },
   "source": [
    "#### From the above chart we can say that alocohol has minor connection with lung cancer as the distribution here is very much same. A slight impact can be considered here, however, alochol consumption with other factors might lead directly towards the Lung Cancer."
   ]
  },
  {
   "cell_type": "code",
   "execution_count": 29,
   "id": "ab58f145",
   "metadata": {
    "colab": {
     "base_uri": "https://localhost:8080/",
     "height": 425
    },
    "id": "ab58f145",
    "outputId": "3c9cb3f3-07b4-4897-e38b-803229742718",
    "papermill": {
     "duration": 0.042381,
     "end_time": "2022-08-11T19:25:14.551868",
     "exception": false,
     "start_time": "2022-08-11T19:25:14.509487",
     "status": "completed"
    },
    "tags": []
   },
   "outputs": [
    {
     "data": {
      "text/html": [
       "<div>\n",
       "<style scoped>\n",
       "    .dataframe tbody tr th:only-of-type {\n",
       "        vertical-align: middle;\n",
       "    }\n",
       "\n",
       "    .dataframe tbody tr th {\n",
       "        vertical-align: top;\n",
       "    }\n",
       "\n",
       "    .dataframe thead th {\n",
       "        text-align: right;\n",
       "    }\n",
       "</style>\n",
       "<table border=\"1\" class=\"dataframe\">\n",
       "  <thead>\n",
       "    <tr style=\"text-align: right;\">\n",
       "      <th></th>\n",
       "      <th>n_age</th>\n",
       "      <th>Lung_Cancer</th>\n",
       "      <th>Total</th>\n",
       "    </tr>\n",
       "  </thead>\n",
       "  <tbody>\n",
       "    <tr>\n",
       "      <th>0</th>\n",
       "      <td>In 20's</td>\n",
       "      <td>NO</td>\n",
       "      <td>1</td>\n",
       "    </tr>\n",
       "    <tr>\n",
       "      <th>1</th>\n",
       "      <td>In 30's</td>\n",
       "      <td>YES</td>\n",
       "      <td>2</td>\n",
       "    </tr>\n",
       "    <tr>\n",
       "      <th>2</th>\n",
       "      <td>In 40's</td>\n",
       "      <td>NO</td>\n",
       "      <td>2</td>\n",
       "    </tr>\n",
       "    <tr>\n",
       "      <th>3</th>\n",
       "      <td>In 40's</td>\n",
       "      <td>YES</td>\n",
       "      <td>10</td>\n",
       "    </tr>\n",
       "    <tr>\n",
       "      <th>4</th>\n",
       "      <td>In 50's</td>\n",
       "      <td>NO</td>\n",
       "      <td>13</td>\n",
       "    </tr>\n",
       "    <tr>\n",
       "      <th>5</th>\n",
       "      <td>In 50's</td>\n",
       "      <td>YES</td>\n",
       "      <td>78</td>\n",
       "    </tr>\n",
       "    <tr>\n",
       "      <th>6</th>\n",
       "      <td>In 60's</td>\n",
       "      <td>NO</td>\n",
       "      <td>20</td>\n",
       "    </tr>\n",
       "    <tr>\n",
       "      <th>7</th>\n",
       "      <td>In 60's</td>\n",
       "      <td>YES</td>\n",
       "      <td>114</td>\n",
       "    </tr>\n",
       "    <tr>\n",
       "      <th>8</th>\n",
       "      <td>In 70's</td>\n",
       "      <td>NO</td>\n",
       "      <td>2</td>\n",
       "    </tr>\n",
       "    <tr>\n",
       "      <th>9</th>\n",
       "      <td>In 70's</td>\n",
       "      <td>YES</td>\n",
       "      <td>64</td>\n",
       "    </tr>\n",
       "    <tr>\n",
       "      <th>10</th>\n",
       "      <td>In 80's</td>\n",
       "      <td>NO</td>\n",
       "      <td>1</td>\n",
       "    </tr>\n",
       "    <tr>\n",
       "      <th>11</th>\n",
       "      <td>In 80's</td>\n",
       "      <td>YES</td>\n",
       "      <td>2</td>\n",
       "    </tr>\n",
       "  </tbody>\n",
       "</table>\n",
       "</div>"
      ],
      "text/plain": [
       "      n_age Lung_Cancer  Total\n",
       "0   In 20's          NO      1\n",
       "1   In 30's         YES      2\n",
       "2   In 40's          NO      2\n",
       "3   In 40's         YES     10\n",
       "4   In 50's          NO     13\n",
       "5   In 50's         YES     78\n",
       "6   In 60's          NO     20\n",
       "7   In 60's         YES    114\n",
       "8   In 70's          NO      2\n",
       "9   In 70's         YES     64\n",
       "10  In 80's          NO      1\n",
       "11  In 80's         YES      2"
      ]
     },
     "execution_count": 29,
     "metadata": {},
     "output_type": "execute_result"
    }
   ],
   "source": [
    "#Build table to display lung cancer distribution - agewise\n",
    "dataset.groupby([\"n_age\",\"Lung_Cancer\"]).agg(Total=(\"Lung_Cancer\",\"count\")).reset_index()"
   ]
  },
  {
   "cell_type": "markdown",
   "id": "3bbee055",
   "metadata": {
    "id": "3bbee055",
    "papermill": {
     "duration": 0.018224,
     "end_time": "2022-08-11T19:25:14.588935",
     "exception": false,
     "start_time": "2022-08-11T19:25:14.570711",
     "status": "completed"
    },
    "tags": []
   },
   "source": [
    "# Machine learning"
   ]
  },
  {
   "cell_type": "markdown",
   "id": "7e64db44",
   "metadata": {
    "id": "7e64db44",
    "papermill": {
     "duration": 0.018466,
     "end_time": "2022-08-11T19:25:14.626676",
     "exception": false,
     "start_time": "2022-08-11T19:25:14.608210",
     "status": "completed"
    },
    "tags": []
   },
   "source": [
    "## Import Libraries"
   ]
  },
  {
   "cell_type": "code",
   "execution_count": 30,
   "id": "5685d5c4",
   "metadata": {
    "id": "5685d5c4",
    "papermill": {
     "duration": 0.340896,
     "end_time": "2022-08-11T19:25:14.986012",
     "exception": false,
     "start_time": "2022-08-11T19:25:14.645116",
     "status": "completed"
    },
    "tags": []
   },
   "outputs": [],
   "source": [
    "#Machine Learining using Logistic Regression\n",
    "\n",
    "from sklearn.model_selection import train_test_split\n",
    "from sklearn.linear_model import LogisticRegression\n",
    "from sklearn.metrics import accuracy_score,precision_score,recall_score\n",
    "from sklearn.metrics import mean_absolute_error"
   ]
  },
  {
   "cell_type": "markdown",
   "id": "45a24f62",
   "metadata": {
    "id": "45a24f62",
    "papermill": {
     "duration": 0.018197,
     "end_time": "2022-08-11T19:25:15.022923",
     "exception": false,
     "start_time": "2022-08-11T19:25:15.004726",
     "status": "completed"
    },
    "tags": []
   },
   "source": [
    "## Data Preprocessing"
   ]
  },
  {
   "cell_type": "code",
   "execution_count": 31,
   "id": "206e09db",
   "metadata": {
    "id": "206e09db",
    "papermill": {
     "duration": 0.031607,
     "end_time": "2022-08-11T19:25:15.073186",
     "exception": false,
     "start_time": "2022-08-11T19:25:15.041579",
     "status": "completed"
    },
    "tags": []
   },
   "outputs": [],
   "source": [
    "#Data should be in a binary for efficient performance. \n",
    "#We replace Genders and Lung Cancer coulmn values with 1 and 0\n",
    "#Other values were replaced earlier.\n",
    "\n",
    "dataset[\"Gender\"]=dataset[\"Gender\"].replace([\"Male\",\"Female\"],[1,0])\n",
    "dataset[\"Lung_Cancer\"]=dataset[\"Lung_Cancer\"].replace([\"YES\",\"NO\"],[1,0])"
   ]
  },
  {
   "cell_type": "markdown",
   "id": "7de4ef2f",
   "metadata": {
    "id": "7de4ef2f",
    "papermill": {
     "duration": 0.018831,
     "end_time": "2022-08-11T19:25:15.111233",
     "exception": false,
     "start_time": "2022-08-11T19:25:15.092402",
     "status": "completed"
    },
    "tags": []
   },
   "source": [
    "## Data splitting for better data validation and output"
   ]
  },
  {
   "cell_type": "code",
   "execution_count": 65,
   "id": "77f13779",
   "metadata": {
    "id": "77f13779",
    "papermill": {
     "duration": 0.031094,
     "end_time": "2022-08-11T19:25:15.161343",
     "exception": false,
     "start_time": "2022-08-11T19:25:15.130249",
     "status": "completed"
    },
    "tags": []
   },
   "outputs": [],
   "source": [
    "#Include all columns except prediction column and n_age which was made for better insights.\n",
    "del dataset['n_age']\n",
    "X=dataset.drop([\"Lung_Cancer\"],axis=1)\n",
    "\n",
    "#Preiction Column\n",
    "y=dataset[\"Lung_Cancer\"]"
   ]
  },
  {
   "cell_type": "code",
   "execution_count": 66,
   "id": "3d015882",
   "metadata": {
    "id": "3d015882",
    "papermill": {
     "duration": 0.030578,
     "end_time": "2022-08-11T19:25:15.210923",
     "exception": false,
     "start_time": "2022-08-11T19:25:15.180345",
     "status": "completed"
    },
    "tags": []
   },
   "outputs": [],
   "source": [
    "#Data Split using test_train_split fuction\n",
    "xtrain,xtest,ytrain,ytest=train_test_split(X,y,test_size=0.3)"
   ]
  },
  {
   "cell_type": "code",
   "execution_count": null,
   "id": "922fa18c-7bdf-4003-ae16-73569f5ba4dc",
   "metadata": {},
   "outputs": [],
   "source": []
  },
  {
   "cell_type": "code",
   "execution_count": 67,
   "id": "ac822363",
   "metadata": {
    "colab": {
     "base_uri": "https://localhost:8080/"
    },
    "id": "ac822363",
    "outputId": "fd8a02b3-8e36-4cbe-fa7d-a25895b18025",
    "papermill": {
     "duration": 0.030768,
     "end_time": "2022-08-11T19:25:15.260676",
     "exception": false,
     "start_time": "2022-08-11T19:25:15.229908",
     "status": "completed"
    },
    "tags": []
   },
   "outputs": [
    {
     "name": "stdout",
     "output_type": "stream",
     "text": [
      "Size of X_train before oversampling: 216\n",
      "Size of X_train after oversampling: 380\n"
     ]
    }
   ],
   "source": [
    "#Print the splitted output values\n",
    "print(f\"Size of X_train before oversampling: {xtrain.shape[0]}\")\n",
    "xtrain,ytrain = SMOTE(random_state=0).fit_resample(xtrain, ytrain)\n",
    "print(f\"Size of X_train after oversampling: {xtrain.shape[0]}\")"
   ]
  },
  {
   "cell_type": "markdown",
   "id": "3fca9eaa",
   "metadata": {
    "id": "3fca9eaa",
    "papermill": {
     "duration": 0.019144,
     "end_time": "2022-08-11T19:25:15.298778",
     "exception": false,
     "start_time": "2022-08-11T19:25:15.279634",
     "status": "completed"
    },
    "tags": []
   },
   "source": [
    "## Model Training"
   ]
  },
  {
   "cell_type": "code",
   "execution_count": 68,
   "id": "2a5129a8",
   "metadata": {
    "colab": {
     "base_uri": "https://localhost:8080/"
    },
    "id": "2a5129a8",
    "outputId": "4e7d26f5-320f-4a8c-ed3d-05cf50e83913",
    "papermill": {
     "duration": 0.035297,
     "end_time": "2022-08-11T19:25:15.352908",
     "exception": false,
     "start_time": "2022-08-11T19:25:15.317611",
     "status": "completed"
    },
    "tags": []
   },
   "outputs": [
    {
     "data": {
      "text/html": [
       "<style>#sk-container-id-4 {color: black;}#sk-container-id-4 pre{padding: 0;}#sk-container-id-4 div.sk-toggleable {background-color: white;}#sk-container-id-4 label.sk-toggleable__label {cursor: pointer;display: block;width: 100%;margin-bottom: 0;padding: 0.3em;box-sizing: border-box;text-align: center;}#sk-container-id-4 label.sk-toggleable__label-arrow:before {content: \"▸\";float: left;margin-right: 0.25em;color: #696969;}#sk-container-id-4 label.sk-toggleable__label-arrow:hover:before {color: black;}#sk-container-id-4 div.sk-estimator:hover label.sk-toggleable__label-arrow:before {color: black;}#sk-container-id-4 div.sk-toggleable__content {max-height: 0;max-width: 0;overflow: hidden;text-align: left;background-color: #f0f8ff;}#sk-container-id-4 div.sk-toggleable__content pre {margin: 0.2em;color: black;border-radius: 0.25em;background-color: #f0f8ff;}#sk-container-id-4 input.sk-toggleable__control:checked~div.sk-toggleable__content {max-height: 200px;max-width: 100%;overflow: auto;}#sk-container-id-4 input.sk-toggleable__control:checked~label.sk-toggleable__label-arrow:before {content: \"▾\";}#sk-container-id-4 div.sk-estimator input.sk-toggleable__control:checked~label.sk-toggleable__label {background-color: #d4ebff;}#sk-container-id-4 div.sk-label input.sk-toggleable__control:checked~label.sk-toggleable__label {background-color: #d4ebff;}#sk-container-id-4 input.sk-hidden--visually {border: 0;clip: rect(1px 1px 1px 1px);clip: rect(1px, 1px, 1px, 1px);height: 1px;margin: -1px;overflow: hidden;padding: 0;position: absolute;width: 1px;}#sk-container-id-4 div.sk-estimator {font-family: monospace;background-color: #f0f8ff;border: 1px dotted black;border-radius: 0.25em;box-sizing: border-box;margin-bottom: 0.5em;}#sk-container-id-4 div.sk-estimator:hover {background-color: #d4ebff;}#sk-container-id-4 div.sk-parallel-item::after {content: \"\";width: 100%;border-bottom: 1px solid gray;flex-grow: 1;}#sk-container-id-4 div.sk-label:hover label.sk-toggleable__label {background-color: #d4ebff;}#sk-container-id-4 div.sk-serial::before {content: \"\";position: absolute;border-left: 1px solid gray;box-sizing: border-box;top: 0;bottom: 0;left: 50%;z-index: 0;}#sk-container-id-4 div.sk-serial {display: flex;flex-direction: column;align-items: center;background-color: white;padding-right: 0.2em;padding-left: 0.2em;position: relative;}#sk-container-id-4 div.sk-item {position: relative;z-index: 1;}#sk-container-id-4 div.sk-parallel {display: flex;align-items: stretch;justify-content: center;background-color: white;position: relative;}#sk-container-id-4 div.sk-item::before, #sk-container-id-4 div.sk-parallel-item::before {content: \"\";position: absolute;border-left: 1px solid gray;box-sizing: border-box;top: 0;bottom: 0;left: 50%;z-index: -1;}#sk-container-id-4 div.sk-parallel-item {display: flex;flex-direction: column;z-index: 1;position: relative;background-color: white;}#sk-container-id-4 div.sk-parallel-item:first-child::after {align-self: flex-end;width: 50%;}#sk-container-id-4 div.sk-parallel-item:last-child::after {align-self: flex-start;width: 50%;}#sk-container-id-4 div.sk-parallel-item:only-child::after {width: 0;}#sk-container-id-4 div.sk-dashed-wrapped {border: 1px dashed gray;margin: 0 0.4em 0.5em 0.4em;box-sizing: border-box;padding-bottom: 0.4em;background-color: white;}#sk-container-id-4 div.sk-label label {font-family: monospace;font-weight: bold;display: inline-block;line-height: 1.2em;}#sk-container-id-4 div.sk-label-container {text-align: center;}#sk-container-id-4 div.sk-container {/* jupyter's `normalize.less` sets `[hidden] { display: none; }` but bootstrap.min.css set `[hidden] { display: none !important; }` so we also need the `!important` here to be able to override the default hidden behavior on the sphinx rendered scikit-learn.org. See: https://github.com/scikit-learn/scikit-learn/issues/21755 */display: inline-block !important;position: relative;}#sk-container-id-4 div.sk-text-repr-fallback {display: none;}</style><div id=\"sk-container-id-4\" class=\"sk-top-container\"><div class=\"sk-text-repr-fallback\"><pre>LogisticRegression(solver=&#x27;liblinear&#x27;)</pre><b>In a Jupyter environment, please rerun this cell to show the HTML representation or trust the notebook. <br />On GitHub, the HTML representation is unable to render, please try loading this page with nbviewer.org.</b></div><div class=\"sk-container\" hidden><div class=\"sk-item\"><div class=\"sk-estimator sk-toggleable\"><input class=\"sk-toggleable__control sk-hidden--visually\" id=\"sk-estimator-id-4\" type=\"checkbox\" checked><label for=\"sk-estimator-id-4\" class=\"sk-toggleable__label sk-toggleable__label-arrow\">LogisticRegression</label><div class=\"sk-toggleable__content\"><pre>LogisticRegression(solver=&#x27;liblinear&#x27;)</pre></div></div></div></div></div>"
      ],
      "text/plain": [
       "LogisticRegression(solver='liblinear')"
      ]
     },
     "execution_count": 68,
     "metadata": {},
     "output_type": "execute_result"
    }
   ],
   "source": [
    "#Call function for model training\n",
    "lr=LogisticRegression(penalty=\"l2\",C=1.0,solver=\"liblinear\")\n",
    "lr.fit(xtrain,ytrain)"
   ]
  },
  {
   "cell_type": "code",
   "execution_count": 69,
   "id": "7c4177b3",
   "metadata": {
    "colab": {
     "base_uri": "https://localhost:8080/"
    },
    "id": "7c4177b3",
    "outputId": "96f4edaf-1b1a-4481-8ed1-d673f6789eb6",
    "papermill": {
     "duration": 0.030555,
     "end_time": "2022-08-11T19:25:15.402121",
     "exception": false,
     "start_time": "2022-08-11T19:25:15.371566",
     "status": "completed"
    },
    "tags": []
   },
   "outputs": [
    {
     "data": {
      "text/plain": [
       "array([1, 1, 1, 1, 1, 1, 1, 1, 1, 1, 1, 1, 0, 1, 1, 1, 1, 1, 1, 1, 1, 1,\n",
       "       1, 1, 1, 1, 1, 1, 1, 0, 1, 1, 1, 1, 1, 1, 1, 1, 1, 1, 1, 1, 0, 1,\n",
       "       1, 1, 1, 1, 1, 1, 1, 1, 1, 1, 1, 0, 1, 1, 1, 1, 1, 1, 0, 1, 1, 1,\n",
       "       1, 1, 1, 1, 1, 1, 1, 1, 1, 1, 1, 1, 1, 0, 1, 0, 1, 1, 1, 0, 1, 1,\n",
       "       1, 1, 1, 1, 0])"
      ]
     },
     "execution_count": 69,
     "metadata": {},
     "output_type": "execute_result"
    }
   ],
   "source": [
    "#Predict the values\n",
    "predicted_value=lr.predict(xtest)\n",
    "predicted_value"
   ]
  },
  {
   "cell_type": "markdown",
   "id": "33845797",
   "metadata": {
    "id": "33845797",
    "papermill": {
     "duration": 0.018421,
     "end_time": "2022-08-11T19:25:15.439293",
     "exception": false,
     "start_time": "2022-08-11T19:25:15.420872",
     "status": "completed"
    },
    "tags": []
   },
   "source": [
    "## Compare the data with actual outputs"
   ]
  },
  {
   "cell_type": "code",
   "execution_count": 70,
   "id": "8b62f4a9",
   "metadata": {
    "colab": {
     "base_uri": "https://localhost:8080/",
     "height": 363
    },
    "id": "8b62f4a9",
    "outputId": "8b51ab2e-a790-4434-d251-6b240a2fb285",
    "papermill": {
     "duration": 0.032734,
     "end_time": "2022-08-11T19:25:15.490911",
     "exception": false,
     "start_time": "2022-08-11T19:25:15.458177",
     "status": "completed"
    },
    "tags": []
   },
   "outputs": [
    {
     "data": {
      "text/html": [
       "<div>\n",
       "<style scoped>\n",
       "    .dataframe tbody tr th:only-of-type {\n",
       "        vertical-align: middle;\n",
       "    }\n",
       "\n",
       "    .dataframe tbody tr th {\n",
       "        vertical-align: top;\n",
       "    }\n",
       "\n",
       "    .dataframe thead th {\n",
       "        text-align: right;\n",
       "    }\n",
       "</style>\n",
       "<table border=\"1\" class=\"dataframe\">\n",
       "  <thead>\n",
       "    <tr style=\"text-align: right;\">\n",
       "      <th></th>\n",
       "      <th>Actual Value</th>\n",
       "      <th>Predicted Value</th>\n",
       "    </tr>\n",
       "  </thead>\n",
       "  <tbody>\n",
       "    <tr>\n",
       "      <th>30</th>\n",
       "      <td>0</td>\n",
       "      <td>0</td>\n",
       "    </tr>\n",
       "    <tr>\n",
       "      <th>171</th>\n",
       "      <td>0</td>\n",
       "      <td>0</td>\n",
       "    </tr>\n",
       "    <tr>\n",
       "      <th>11</th>\n",
       "      <td>1</td>\n",
       "      <td>1</td>\n",
       "    </tr>\n",
       "    <tr>\n",
       "      <th>166</th>\n",
       "      <td>1</td>\n",
       "      <td>1</td>\n",
       "    </tr>\n",
       "    <tr>\n",
       "      <th>94</th>\n",
       "      <td>1</td>\n",
       "      <td>1</td>\n",
       "    </tr>\n",
       "    <tr>\n",
       "      <th>134</th>\n",
       "      <td>1</td>\n",
       "      <td>1</td>\n",
       "    </tr>\n",
       "    <tr>\n",
       "      <th>265</th>\n",
       "      <td>1</td>\n",
       "      <td>1</td>\n",
       "    </tr>\n",
       "    <tr>\n",
       "      <th>160</th>\n",
       "      <td>1</td>\n",
       "      <td>1</td>\n",
       "    </tr>\n",
       "    <tr>\n",
       "      <th>220</th>\n",
       "      <td>1</td>\n",
       "      <td>1</td>\n",
       "    </tr>\n",
       "    <tr>\n",
       "      <th>185</th>\n",
       "      <td>1</td>\n",
       "      <td>1</td>\n",
       "    </tr>\n",
       "  </tbody>\n",
       "</table>\n",
       "</div>"
      ],
      "text/plain": [
       "     Actual Value  Predicted Value\n",
       "30              0                0\n",
       "171             0                0\n",
       "11              1                1\n",
       "166             1                1\n",
       "94              1                1\n",
       "134             1                1\n",
       "265             1                1\n",
       "160             1                1\n",
       "220             1                1\n",
       "185             1                1"
      ]
     },
     "execution_count": 70,
     "metadata": {},
     "output_type": "execute_result"
    }
   ],
   "source": [
    "comparation=pd.DataFrame({\"Actual Value\":ytest,\"Predicted Value\":predicted_value})\n",
    "comparation.sample(10)"
   ]
  },
  {
   "cell_type": "markdown",
   "id": "aa2e013b",
   "metadata": {
    "id": "aa2e013b",
    "papermill": {
     "duration": 0.018744,
     "end_time": "2022-08-11T19:25:15.528744",
     "exception": false,
     "start_time": "2022-08-11T19:25:15.510000",
     "status": "completed"
    },
    "tags": []
   },
   "source": [
    "## Model Evalution"
   ]
  },
  {
   "cell_type": "code",
   "execution_count": 71,
   "id": "98cd2543",
   "metadata": {
    "colab": {
     "base_uri": "https://localhost:8080/"
    },
    "id": "98cd2543",
    "outputId": "15e200f0-d2eb-45fc-93ee-4f9293fc2b4c",
    "papermill": {
     "duration": 0.032358,
     "end_time": "2022-08-11T19:25:15.579967",
     "exception": false,
     "start_time": "2022-08-11T19:25:15.547609",
     "status": "completed"
    },
    "tags": []
   },
   "outputs": [
    {
     "name": "stdout",
     "output_type": "stream",
     "text": [
      "Accuracy score:  0.9354838709677419\n",
      "Precision score:  0.9404761904761905\n",
      "Recall score:  0.9875\n"
     ]
    }
   ],
   "source": [
    "av=comparation[\"Actual Value\"]\n",
    "pv=comparation[\"Predicted Value\"]\n",
    "acc=accuracy_score(av,pv)\n",
    "pre=precision_score(av,pv)\n",
    "rec=recall_score(av,pv)\n",
    "print(\"Accuracy score: \",acc)\n",
    "print(\"Precision score: \",pre)\n",
    "print(\"Recall score: \",rec)"
   ]
  },
  {
   "cell_type": "markdown",
   "id": "6c3b858a",
   "metadata": {
    "id": "6c3b858a",
    "papermill": {
     "duration": 0.020133,
     "end_time": "2022-08-11T19:25:15.619475",
     "exception": false,
     "start_time": "2022-08-11T19:25:15.599342",
     "status": "completed"
    },
    "tags": []
   },
   "source": [
    "## Lets check outputs using the Random Forrest Algorithm Now"
   ]
  },
  {
   "cell_type": "code",
   "execution_count": 72,
   "id": "d3bb8404",
   "metadata": {
    "id": "d3bb8404",
    "papermill": {
     "duration": 0.188308,
     "end_time": "2022-08-11T19:25:15.827102",
     "exception": false,
     "start_time": "2022-08-11T19:25:15.638794",
     "status": "completed"
    },
    "tags": []
   },
   "outputs": [],
   "source": [
    "#Import Library\n",
    "from sklearn.ensemble import RandomForestRegressor"
   ]
  },
  {
   "cell_type": "code",
   "execution_count": 73,
   "id": "0ca48b94",
   "metadata": {
    "id": "0ca48b94",
    "papermill": {
     "duration": 0.030433,
     "end_time": "2022-08-11T19:25:15.877261",
     "exception": false,
     "start_time": "2022-08-11T19:25:15.846828",
     "status": "completed"
    },
    "tags": []
   },
   "outputs": [],
   "source": [
    "#Include all columns except prediction column and n_age which was made for better insights.\n",
    "rf_X=dataset.drop([\"Lung_Cancer\"],axis=1)\n",
    "\n",
    "#Preiction Column\n",
    "rf_y=dataset[\"Lung_Cancer\"]"
   ]
  },
  {
   "cell_type": "code",
   "execution_count": 74,
   "id": "6f2b8ce7",
   "metadata": {
    "id": "6f2b8ce7",
    "papermill": {
     "duration": 0.029799,
     "end_time": "2022-08-11T19:25:15.931429",
     "exception": false,
     "start_time": "2022-08-11T19:25:15.901630",
     "status": "completed"
    },
    "tags": []
   },
   "outputs": [],
   "source": [
    "#Data Split using test_train_split fuction\n",
    "rf_xtrain,rf_xtest,rf_ytrain,rf_ytest=train_test_split(rf_X,rf_y,test_size=0.2)"
   ]
  },
  {
   "cell_type": "code",
   "execution_count": 75,
   "id": "cf6e12cc",
   "metadata": {
    "colab": {
     "base_uri": "https://localhost:8080/"
    },
    "id": "cf6e12cc",
    "outputId": "e7d49431-7ef3-459d-dd6f-2a8a0dca210f",
    "papermill": {
     "duration": 0.029556,
     "end_time": "2022-08-11T19:25:15.981229",
     "exception": false,
     "start_time": "2022-08-11T19:25:15.951673",
     "status": "completed"
    },
    "tags": []
   },
   "outputs": [
    {
     "data": {
      "text/plain": [
       "115    1\n",
       "196    1\n",
       "56     1\n",
       "54     1\n",
       "157    0\n",
       "      ..\n",
       "182    1\n",
       "127    1\n",
       "63     1\n",
       "285    1\n",
       "130    1\n",
       "Name: Lung_Cancer, Length: 62, dtype: int64"
      ]
     },
     "execution_count": 75,
     "metadata": {},
     "output_type": "execute_result"
    }
   ],
   "source": [
    "#Print the splitted output values\n",
    "rf_ytest"
   ]
  },
  {
   "cell_type": "code",
   "execution_count": 76,
   "id": "ODDwWEj_czYQ",
   "metadata": {
    "colab": {
     "base_uri": "https://localhost:8080/"
    },
    "id": "ODDwWEj_czYQ",
    "outputId": "8f853c57-c7ad-4683-ff3e-cb87a3fd567b"
   },
   "outputs": [
    {
     "data": {
      "text/plain": [
       "Index(['Gender', 'Age', 'Smoking', 'Yellow_Fingers', 'Anxiety',\n",
       "       'Peer_Pressure', 'Chronic Disease', 'Fatigue ', 'Allergy ', 'Wheezing',\n",
       "       'Alcohol Consuming', 'Coughing', 'Shortness Of Breath',\n",
       "       'Swallowing Difficulty', 'Chest Pain'],\n",
       "      dtype='object')"
      ]
     },
     "execution_count": 76,
     "metadata": {},
     "output_type": "execute_result"
    }
   ],
   "source": [
    "rf_xtrain.columns"
   ]
  },
  {
   "cell_type": "code",
   "execution_count": 77,
   "id": "3dcbd652",
   "metadata": {
    "colab": {
     "base_uri": "https://localhost:8080/"
    },
    "id": "3dcbd652",
    "outputId": "26731714-3469-4a4e-a069-23eb27cbb7ce",
    "papermill": {
     "duration": 0.180219,
     "end_time": "2022-08-11T19:25:16.180624",
     "exception": false,
     "start_time": "2022-08-11T19:25:16.000405",
     "status": "completed"
    },
    "tags": []
   },
   "outputs": [
    {
     "data": {
      "text/plain": [
       "array([0.99  , 0.9825, 0.94  , 0.95  , 0.43  , 0.98  , 0.97  , 1.    ,\n",
       "       0.57  , 1.    , 0.54  , 0.98  , 0.98  , 0.43  , 0.82  , 0.99  ,\n",
       "       0.98  , 0.98  , 0.9   , 1.    , 1.    , 0.59  , 0.82  , 1.    ,\n",
       "       1.    , 0.93  , 0.84  , 0.2   , 0.95  , 0.33  , 1.    , 0.99  ,\n",
       "       0.99  , 0.09  , 0.95  , 1.    , 0.96  , 0.405 , 0.23  , 0.98  ,\n",
       "       0.67  , 0.98  , 0.92  , 0.99  , 0.93  , 0.98  , 1.    , 0.94  ,\n",
       "       1.    , 0.99  , 0.97  , 0.26  , 0.98  , 1.    , 1.    , 0.85  ,\n",
       "       0.99  , 1.    , 0.99  , 0.97  , 0.98  , 0.97  ])"
      ]
     },
     "execution_count": 77,
     "metadata": {},
     "output_type": "execute_result"
    }
   ],
   "source": [
    "#Implement Model\n",
    "forest_model = RandomForestRegressor(random_state=1)\n",
    "forest_model.fit(rf_xtrain, rf_ytrain)\n",
    "forest_predict = forest_model.predict(rf_xtest)\n",
    "forest_predict"
   ]
  },
  {
   "cell_type": "code",
   "execution_count": 78,
   "id": "cNgQzvqEcK1F",
   "metadata": {
    "id": "cNgQzvqEcK1F"
   },
   "outputs": [],
   "source": [
    "import pickle\n",
    "filename = 'model.pkl'\n",
    "pickle.dump(forest_model, open(filename, 'wb'))"
   ]
  },
  {
   "cell_type": "markdown",
   "id": "976a7afc",
   "metadata": {
    "id": "976a7afc",
    "papermill": {
     "duration": 0.019163,
     "end_time": "2022-08-11T19:25:16.219890",
     "exception": false,
     "start_time": "2022-08-11T19:25:16.200727",
     "status": "completed"
    },
    "tags": []
   },
   "source": [
    "## Comparison of outputs now"
   ]
  },
  {
   "cell_type": "code",
   "execution_count": 79,
   "id": "4e5c068f",
   "metadata": {
    "colab": {
     "base_uri": "https://localhost:8080/",
     "height": 363
    },
    "id": "4e5c068f",
    "outputId": "d62d6102-33a3-4106-cf3f-aa9e424f221b",
    "papermill": {
     "duration": 0.035914,
     "end_time": "2022-08-11T19:25:16.275193",
     "exception": false,
     "start_time": "2022-08-11T19:25:16.239279",
     "status": "completed"
    },
    "tags": []
   },
   "outputs": [
    {
     "data": {
      "text/html": [
       "<div>\n",
       "<style scoped>\n",
       "    .dataframe tbody tr th:only-of-type {\n",
       "        vertical-align: middle;\n",
       "    }\n",
       "\n",
       "    .dataframe tbody tr th {\n",
       "        vertical-align: top;\n",
       "    }\n",
       "\n",
       "    .dataframe thead th {\n",
       "        text-align: right;\n",
       "    }\n",
       "</style>\n",
       "<table border=\"1\" class=\"dataframe\">\n",
       "  <thead>\n",
       "    <tr style=\"text-align: right;\">\n",
       "      <th></th>\n",
       "      <th>Actual Value</th>\n",
       "      <th>Predicted Value RF</th>\n",
       "    </tr>\n",
       "  </thead>\n",
       "  <tbody>\n",
       "    <tr>\n",
       "      <th>253</th>\n",
       "      <td>1</td>\n",
       "      <td>1</td>\n",
       "    </tr>\n",
       "    <tr>\n",
       "      <th>162</th>\n",
       "      <td>1</td>\n",
       "      <td>1</td>\n",
       "    </tr>\n",
       "    <tr>\n",
       "      <th>79</th>\n",
       "      <td>1</td>\n",
       "      <td>1</td>\n",
       "    </tr>\n",
       "    <tr>\n",
       "      <th>188</th>\n",
       "      <td>1</td>\n",
       "      <td>1</td>\n",
       "    </tr>\n",
       "    <tr>\n",
       "      <th>66</th>\n",
       "      <td>1</td>\n",
       "      <td>1</td>\n",
       "    </tr>\n",
       "    <tr>\n",
       "      <th>234</th>\n",
       "      <td>1</td>\n",
       "      <td>1</td>\n",
       "    </tr>\n",
       "    <tr>\n",
       "      <th>64</th>\n",
       "      <td>1</td>\n",
       "      <td>1</td>\n",
       "    </tr>\n",
       "    <tr>\n",
       "      <th>101</th>\n",
       "      <td>1</td>\n",
       "      <td>1</td>\n",
       "    </tr>\n",
       "    <tr>\n",
       "      <th>187</th>\n",
       "      <td>1</td>\n",
       "      <td>0</td>\n",
       "    </tr>\n",
       "    <tr>\n",
       "      <th>144</th>\n",
       "      <td>1</td>\n",
       "      <td>1</td>\n",
       "    </tr>\n",
       "  </tbody>\n",
       "</table>\n",
       "</div>"
      ],
      "text/plain": [
       "     Actual Value  Predicted Value RF\n",
       "253             1                   1\n",
       "162             1                   1\n",
       "79              1                   1\n",
       "188             1                   1\n",
       "66              1                   1\n",
       "234             1                   1\n",
       "64              1                   1\n",
       "101             1                   1\n",
       "187             1                   0\n",
       "144             1                   1"
      ]
     },
     "execution_count": 79,
     "metadata": {},
     "output_type": "execute_result"
    }
   ],
   "source": [
    "comparation_1=pd.DataFrame({\"Actual Value\":rf_ytest,\"Predicted Value RF\":np.where(forest_predict>0.5,1,0)})\n",
    "comparation_1.sample(10)"
   ]
  },
  {
   "cell_type": "code",
   "execution_count": 80,
   "id": "191cbc17",
   "metadata": {
    "colab": {
     "base_uri": "https://localhost:8080/"
    },
    "id": "191cbc17",
    "outputId": "920370b2-f851-4d35-e7c4-6274f62a1e81",
    "papermill": {
     "duration": 0.035041,
     "end_time": "2022-08-11T19:25:16.330225",
     "exception": false,
     "start_time": "2022-08-11T19:25:16.295184",
     "status": "completed"
    },
    "tags": []
   },
   "outputs": [
    {
     "name": "stdout",
     "output_type": "stream",
     "text": [
      "Accuracy score:  0.9354838709677419\n",
      "Precision score:  0.9404761904761905\n",
      "Recall score:  0.9875\n"
     ]
    }
   ],
   "source": [
    "av=comparation[\"Actual Value\"]\n",
    "pv=comparation[\"Predicted Value\"]\n",
    "acc=accuracy_score(av,pv)\n",
    "pre=precision_score(av,pv)\n",
    "rec=recall_score(av,pv)\n",
    "print(\"Accuracy score: \",acc)\n",
    "print(\"Precision score: \",pre)\n",
    "print(\"Recall score: \",rec)"
   ]
  },
  {
   "cell_type": "markdown",
   "id": "e2c3c1fe",
   "metadata": {
    "id": "e2c3c1fe",
    "papermill": {
     "duration": 0.01942,
     "end_time": "2022-08-11T19:25:16.369544",
     "exception": false,
     "start_time": "2022-08-11T19:25:16.350124",
     "status": "completed"
    },
    "tags": []
   },
   "source": [
    "## We can conclude that, Here, Logistic Regression and Random Forrest Perform Equally. "
   ]
  },
  {
   "cell_type": "code",
   "execution_count": null,
   "id": "c91e00e2-a640-449d-9e9a-ccb5928b09aa",
   "metadata": {},
   "outputs": [],
   "source": []
  }
 ],
 "metadata": {
  "colab": {
   "provenance": []
  },
  "kernelspec": {
   "display_name": "Python 3 (ipykernel)",
   "language": "python",
   "name": "python3"
  },
  "language_info": {
   "codemirror_mode": {
    "name": "ipython",
    "version": 3
   },
   "file_extension": ".py",
   "mimetype": "text/x-python",
   "name": "python",
   "nbconvert_exporter": "python",
   "pygments_lexer": "ipython3",
   "version": "3.11.4"
  },
  "papermill": {
   "default_parameters": {},
   "duration": 15.810435,
   "end_time": "2022-08-11T19:25:17.212114",
   "environment_variables": {},
   "exception": null,
   "input_path": "__notebook__.ipynb",
   "output_path": "__notebook__.ipynb",
   "parameters": {},
   "start_time": "2022-08-11T19:25:01.401679",
   "version": "2.3.4"
  }
 },
 "nbformat": 4,
 "nbformat_minor": 5
}
