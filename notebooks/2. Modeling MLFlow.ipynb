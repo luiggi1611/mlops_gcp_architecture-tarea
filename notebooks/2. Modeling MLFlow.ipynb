{
 "cells": [
  {
   "cell_type": "markdown",
   "id": "4eca70b6-0c05-4605-aab6-92142b8993e9",
   "metadata": {},
   "source": [
    "**1. Start Local MLflow tracking server:** <br> `mlflow server --backend-store-uri sqlite:///mlflow.db --default-artifact-root ./mlruns`\n",
    "\n",
    "The MLflow model registry does not work unless your metadata is stored in a SQL database\n",
    "\n",
    "extra parameters: <br>\n",
    "`--host 0.0.0.0 -p 5000 --gunicorn-opts \"--timeout 180\"`\n",
    "\n",
    "`backend-store-uri` represents the location and type of database we want to use to store high level metadata associated with our runs. <br> `default-artifact-root` specifies a separate path where artifacts should be stored. A separate path is provided for artifacts because artifacts can be very large and therefore may need to be stored in a cloud-based data store such as S3 for some projects. \n",
    "\n",
    "**2. Visit MLflow UI url:** <br> `http://127.0.0.1:5000` <br>\n",
    "There, only the Default experiment will exist.\n",
    "\n",
    "**3. Set Tracking URI:** <br>\n",
    "`mlflow.set_tracking_uri('http://127.0.0.1:5000')` <br>\n",
    "A very important step to tell MLflow where the model tracking server is.\n",
    "\n",
    "**4. Create experiment or use existing one**: <br>\n",
    "`mlflow.set_experiment(_experiment_name)`\n",
    "\n",
    "**5. Track things:** <br>\n",
    "E.g. `mlflow.log_metrics(metrics)`\n",
    "\n",
    "**6. Save model on MLflow Model Registry:** <br>\n",
    "`model_uri = mlflow.get_artifact_uri(\"logistic_regression_model\")` <br>\n",
    "`MODEL_NAME = \"logistic_regression_model\"` <br>\n",
    "`mv = mlflow.register_model(model_uri, MODEL_NAME)`\n",
    "\n",
    "**7. Load a model and predict:** <br>\n",
    "`mlflow.set_tracking_uri('http://127.0.0.1:5000')` <br>\n",
    "`_model_name = \"logistic_regression_model\"` <br>\n",
    "`version = \"4\"` <br>\n",
    "`my_clf = mlflow.pyfunc.load_model(f\"models:/{MODEL_NAME}/{version}\")`"
   ]
  },
  {
   "cell_type": "code",
   "execution_count": 1,
   "id": "b27ff04f-c518-4c49-b507-c24109b7c1b3",
   "metadata": {},
   "outputs": [],
   "source": [
    "import mlflow\n",
    "import pandas as pd\n",
    "import numpy as np\n",
    "from sklearn.preprocessing import LabelEncoder\n",
    "from sklearn.model_selection import train_test_split\n",
    "from sklearn.preprocessing import MinMaxScaler\n",
    "from sklearn.model_selection import cross_val_score\n",
    "from imblearn.over_sampling import SMOTE\n",
    "\n",
    "from sklearn.metrics import (\n",
    "    accuracy_score,\n",
    "    f1_score,\n",
    "    RocCurveDisplay\n",
    ")\n",
    "\n",
    "from feature_engine.encoding import (\n",
    "    OrdinalEncoder,\n",
    "    OneHotEncoder,\n",
    ")\n",
    "\n",
    "from feature_engine.transformation import (\n",
    "    YeoJohnsonTransformer,\n",
    ")\n",
    "\n",
    "from sklearn.linear_model import LogisticRegression\n",
    "\n",
    "pd.set_option('display.max_columns', 25)\n",
    "\n",
    "import matplotlib.pyplot as plt"
   ]
  },
  {
   "cell_type": "code",
   "execution_count": 2,
   "id": "d4430fb8-d91a-4143-b06d-9c029125559e",
   "metadata": {},
   "outputs": [
    {
     "data": {
      "text/html": [
       "<div>\n",
       "<style scoped>\n",
       "    .dataframe tbody tr th:only-of-type {\n",
       "        vertical-align: middle;\n",
       "    }\n",
       "\n",
       "    .dataframe tbody tr th {\n",
       "        vertical-align: top;\n",
       "    }\n",
       "\n",
       "    .dataframe thead th {\n",
       "        text-align: right;\n",
       "    }\n",
       "</style>\n",
       "<table border=\"1\" class=\"dataframe\">\n",
       "  <thead>\n",
       "    <tr style=\"text-align: right;\">\n",
       "      <th></th>\n",
       "      <th>customerID</th>\n",
       "      <th>gender</th>\n",
       "      <th>SeniorCitizen</th>\n",
       "      <th>Partner</th>\n",
       "      <th>Dependents</th>\n",
       "      <th>tenure</th>\n",
       "      <th>PhoneService</th>\n",
       "      <th>MultipleLines</th>\n",
       "      <th>InternetService</th>\n",
       "      <th>OnlineSecurity</th>\n",
       "      <th>OnlineBackup</th>\n",
       "      <th>DeviceProtection</th>\n",
       "      <th>TechSupport</th>\n",
       "      <th>StreamingTV</th>\n",
       "      <th>StreamingMovies</th>\n",
       "      <th>Contract</th>\n",
       "      <th>PaperlessBilling</th>\n",
       "      <th>PaymentMethod</th>\n",
       "      <th>MonthlyCharges</th>\n",
       "      <th>TotalCharges</th>\n",
       "      <th>Churn</th>\n",
       "    </tr>\n",
       "  </thead>\n",
       "  <tbody>\n",
       "    <tr>\n",
       "      <th>0</th>\n",
       "      <td>7590-VHVEG</td>\n",
       "      <td>Female</td>\n",
       "      <td>0</td>\n",
       "      <td>Yes</td>\n",
       "      <td>No</td>\n",
       "      <td>1</td>\n",
       "      <td>No</td>\n",
       "      <td>No phone service</td>\n",
       "      <td>DSL</td>\n",
       "      <td>No</td>\n",
       "      <td>Yes</td>\n",
       "      <td>No</td>\n",
       "      <td>No</td>\n",
       "      <td>No</td>\n",
       "      <td>No</td>\n",
       "      <td>Month-to-month</td>\n",
       "      <td>Yes</td>\n",
       "      <td>Electronic check</td>\n",
       "      <td>29.85</td>\n",
       "      <td>29.85</td>\n",
       "      <td>No</td>\n",
       "    </tr>\n",
       "    <tr>\n",
       "      <th>1</th>\n",
       "      <td>5575-GNVDE</td>\n",
       "      <td>Male</td>\n",
       "      <td>0</td>\n",
       "      <td>No</td>\n",
       "      <td>No</td>\n",
       "      <td>34</td>\n",
       "      <td>Yes</td>\n",
       "      <td>No</td>\n",
       "      <td>DSL</td>\n",
       "      <td>Yes</td>\n",
       "      <td>No</td>\n",
       "      <td>Yes</td>\n",
       "      <td>No</td>\n",
       "      <td>No</td>\n",
       "      <td>No</td>\n",
       "      <td>One year</td>\n",
       "      <td>No</td>\n",
       "      <td>Mailed check</td>\n",
       "      <td>56.95</td>\n",
       "      <td>1889.5</td>\n",
       "      <td>No</td>\n",
       "    </tr>\n",
       "    <tr>\n",
       "      <th>2</th>\n",
       "      <td>3668-QPYBK</td>\n",
       "      <td>Male</td>\n",
       "      <td>0</td>\n",
       "      <td>No</td>\n",
       "      <td>No</td>\n",
       "      <td>2</td>\n",
       "      <td>Yes</td>\n",
       "      <td>No</td>\n",
       "      <td>DSL</td>\n",
       "      <td>Yes</td>\n",
       "      <td>Yes</td>\n",
       "      <td>No</td>\n",
       "      <td>No</td>\n",
       "      <td>No</td>\n",
       "      <td>No</td>\n",
       "      <td>Month-to-month</td>\n",
       "      <td>Yes</td>\n",
       "      <td>Mailed check</td>\n",
       "      <td>53.85</td>\n",
       "      <td>108.15</td>\n",
       "      <td>Yes</td>\n",
       "    </tr>\n",
       "  </tbody>\n",
       "</table>\n",
       "</div>"
      ],
      "text/plain": [
       "   customerID  gender  SeniorCitizen Partner Dependents  tenure PhoneService  \\\n",
       "0  7590-VHVEG  Female              0     Yes         No       1           No   \n",
       "1  5575-GNVDE    Male              0      No         No      34          Yes   \n",
       "2  3668-QPYBK    Male              0      No         No       2          Yes   \n",
       "\n",
       "      MultipleLines InternetService OnlineSecurity OnlineBackup  \\\n",
       "0  No phone service             DSL             No          Yes   \n",
       "1                No             DSL            Yes           No   \n",
       "2                No             DSL            Yes          Yes   \n",
       "\n",
       "  DeviceProtection TechSupport StreamingTV StreamingMovies        Contract  \\\n",
       "0               No          No          No              No  Month-to-month   \n",
       "1              Yes          No          No              No        One year   \n",
       "2               No          No          No              No  Month-to-month   \n",
       "\n",
       "  PaperlessBilling     PaymentMethod  MonthlyCharges TotalCharges Churn  \n",
       "0              Yes  Electronic check           29.85        29.85    No  \n",
       "1               No      Mailed check           56.95       1889.5    No  \n",
       "2              Yes      Mailed check           53.85       108.15   Yes  "
      ]
     },
     "execution_count": 2,
     "metadata": {},
     "output_type": "execute_result"
    }
   ],
   "source": [
    "data = pd.read_csv(\"../data/input_data/telco_customer_churn_1.csv\")\n",
    "data.head(3)"
   ]
  },
  {
   "cell_type": "code",
   "execution_count": 3,
   "id": "ceadeb33-c771-4374-8b4c-974cfba77133",
   "metadata": {
    "tags": []
   },
   "outputs": [],
   "source": [
    "# replace NaNs of TotalCharges with '-1' and covert col to float (from string)\n",
    "data['TotalCharges'] = data['TotalCharges'].str.replace(' ', '-1').astype(float)"
   ]
  },
  {
   "cell_type": "markdown",
   "id": "de0f16b1-c540-4732-9348-7948b25ce7f9",
   "metadata": {},
   "source": [
    "# Train-Test Split"
   ]
  },
  {
   "cell_type": "code",
   "execution_count": 4,
   "id": "cd419ae1-f2ef-486d-b279-55ea14838a39",
   "metadata": {},
   "outputs": [],
   "source": [
    "X_train, X_test, y_train, y_test = train_test_split(\n",
    "    data.drop(['customerID', 'Churn'], axis=1),\n",
    "    data['Churn'],\n",
    "    test_size=0.2,\n",
    "    random_state=0,\n",
    ")"
   ]
  },
  {
   "cell_type": "markdown",
   "id": "82174305-ae4a-4a0f-8e81-6ed5e0747e76",
   "metadata": {},
   "source": [
    "# Categorical Features"
   ]
  },
  {
   "cell_type": "code",
   "execution_count": 5,
   "id": "30d62176-21fe-4cad-a761-aac642193546",
   "metadata": {
    "tags": []
   },
   "outputs": [],
   "source": [
    "cat_vars_onehot = ['gender', 'Partner', 'Dependents', 'PhoneService', 'PaperlessBilling']\n",
    "cat_vars_ordinal_arbitrary = ['MultipleLines', 'InternetService', 'OnlineSecurity', 'OnlineBackup',\n",
    "                    'DeviceProtection', 'TechSupport', 'StreamingTV', 'StreamingMovies', 'Contract', 'PaymentMethod']\n",
    "\n",
    "ordinal_encoder_arbitrary = OrdinalEncoder(encoding_method='arbitrary', variables=cat_vars_ordinal_arbitrary)\n",
    "ordinal_encoder_arbitrary.fit(X_train, y_train)\n",
    "\n",
    "onehot_encoder = OneHotEncoder(variables=cat_vars_onehot)\n",
    "onehot_encoder.fit(X_train)\n",
    "\n",
    "X_train = ordinal_encoder_arbitrary.transform(X_train)\n",
    "X_test = ordinal_encoder_arbitrary.transform(X_test)\n",
    "\n",
    "X_train = onehot_encoder.transform(X_train)\n",
    "X_test = onehot_encoder.transform(X_test)"
   ]
  },
  {
   "cell_type": "markdown",
   "id": "c5acfe05-9c10-4f82-a411-ba931f00b7ae",
   "metadata": {},
   "source": [
    "# Numerical Features"
   ]
  },
  {
   "cell_type": "code",
   "execution_count": 6,
   "id": "f37432b4-8f6d-48d4-bc77-a37b028db8ae",
   "metadata": {},
   "outputs": [],
   "source": [
    "num_vars_yeo_johnson = ['TotalCharges']\n",
    "\n",
    "yeo_transformer = YeoJohnsonTransformer(variables=num_vars_yeo_johnson)\n",
    "yeo_transformer.fit(X_train)\n",
    "\n",
    "X_train = yeo_transformer.transform(X_train)\n",
    "X_test = yeo_transformer.transform(X_test)"
   ]
  },
  {
   "cell_type": "markdown",
   "id": "f9becf28-efe6-4ef1-94d8-fe8e4235a0d0",
   "metadata": {},
   "source": [
    "# Target"
   ]
  },
  {
   "cell_type": "code",
   "execution_count": 7,
   "id": "23b38f48-e281-4f7c-a1e4-bc4aab6e03db",
   "metadata": {},
   "outputs": [],
   "source": [
    "le = LabelEncoder()\n",
    "le.fit(y_train)\n",
    "\n",
    "y_train = le.transform(y_train)\n",
    "y_test = le.transform(y_test)"
   ]
  },
  {
   "cell_type": "markdown",
   "id": "a7211f11-237d-480d-b46e-b2ca53173e31",
   "metadata": {},
   "source": [
    "# Scaling"
   ]
  },
  {
   "cell_type": "code",
   "execution_count": 8,
   "id": "87c44b4c-d47a-4426-8bda-e515ad106a66",
   "metadata": {},
   "outputs": [],
   "source": [
    "min_max_scaler = MinMaxScaler()\n",
    "min_max_scaler.fit(X_train) \n",
    "\n",
    "X_train = pd.DataFrame(min_max_scaler.transform(X_train), columns=X_train.columns)\n",
    "X_test = pd.DataFrame(min_max_scaler.transform(X_test), columns=X_train.columns)"
   ]
  },
  {
   "cell_type": "markdown",
   "id": "c4aa43df-0df5-4018-b60c-28614daf7938",
   "metadata": {},
   "source": [
    "# Oversampling with SMOTE"
   ]
  },
  {
   "cell_type": "code",
   "execution_count": 9,
   "id": "6bb6049b-f06b-407b-bcf3-2cd59238b0c1",
   "metadata": {
    "tags": []
   },
   "outputs": [
    {
     "name": "stdout",
     "output_type": "stream",
     "text": [
      "Size of X_train before oversampling: 4800\n",
      "Size of X_train after oversampling: 7050\n"
     ]
    }
   ],
   "source": [
    "print(f\"Size of X_train before oversampling: {X_train.shape[0]}\")\n",
    "X_train, y_train = SMOTE(random_state=0).fit_resample(X_train, y_train)\n",
    "print(f\"Size of X_train after oversampling: {X_train.shape[0]}\")"
   ]
  },
  {
   "cell_type": "markdown",
   "id": "5fc6a526-3c42-404e-b1c0-7741ae574de7",
   "metadata": {},
   "source": [
    "# ML"
   ]
  },
  {
   "cell_type": "code",
   "execution_count": 10,
   "id": "6dc739f7-d6a1-413d-94a9-6bab8c3d3e7f",
   "metadata": {},
   "outputs": [
    {
     "name": "stderr",
     "output_type": "stream",
     "text": [
      "2023/08/01 04:36:05 INFO mlflow.tracking.fluent: Experiment with name 'dev-churn-prediction-1' does not exist. Creating a new experiment.\n"
     ]
    },
    {
     "data": {
      "text/plain": [
       "<Experiment: artifact_location='s3://datapath-mlops-l3/1', creation_time=1690864565157, experiment_id='1', last_update_time=1690864565157, lifecycle_stage='active', name='dev-churn-prediction-1', tags={}>"
      ]
     },
     "execution_count": 10,
     "metadata": {},
     "output_type": "execute_result"
    }
   ],
   "source": [
    "# MLflow: model name\n",
    "MODEL_NAME = \"dev_logreg_model\"\n",
    "\n",
    "# MLflow: tell MLflow where the model tracking server is\n",
    "# The following command should be a comment if run by docker-compose\n",
    "# mlflow.set_tracking_uri('http://127.0.0.1:5000')\n",
    "\n",
    "# MLflow: experiment name\n",
    "_experiment_name = \"dev-churn-prediction-1\"\n",
    "mlflow.set_experiment(_experiment_name)"
   ]
  },
  {
   "cell_type": "code",
   "execution_count": 11,
   "id": "0ec3eb74-976d-4512-9806-2bb969725f6b",
   "metadata": {
    "tags": []
   },
   "outputs": [
    {
     "name": "stdout",
     "output_type": "stream",
     "text": [
      "\n",
      "Active run_id: 1cf610fd1a88486e98101a50c62f0afc\n",
      "CV accuracy: 0.78, Test accuracy: 0.76\n",
      "CV f1: 0.78, Test f1: 0.61\n"
     ]
    }
   ],
   "source": [
    "with mlflow.start_run() as run:\n",
    "\n",
    "    # MLflow: print run specific info\n",
    "    run_id = run.info.run_id\n",
    "    print(f\"\\nActive run_id: {run_id}\")\n",
    "\n",
    "    # Choose parameters\n",
    "    param_C = 0.8\n",
    "    param_max_iter = 200\n",
    "    clf = LogisticRegression(C=param_C, max_iter=param_max_iter, random_state=0)\n",
    "\n",
    "    # Train on all set and evaluate on test\n",
    "    clf.fit(X_train, y_train)\n",
    "    y_test_pred = clf.predict(X_test)\n",
    "    test_accuracy = accuracy_score(y_test, y_test_pred)\n",
    "    test_f1 = f1_score(y_test, y_test_pred)\n",
    "\n",
    "    # Cross validation on train set\n",
    "    cv_accuracy = cross_val_score(clf, X_train, y_train, cv=5, scoring='accuracy').mean()\n",
    "    cv_f1 = cross_val_score(clf, X_train, y_train, cv=5, scoring='f1_macro').mean()\n",
    "\n",
    "    print(f\"CV accuracy: {cv_accuracy:.2f}, Test accuracy: {test_accuracy:.2f}\\n\"\n",
    "          f\"CV f1: {cv_f1:.2f}, Test f1: {test_f1:.2f}\")\n",
    "\n",
    "    # MLflow: Log the metrics\n",
    "    metrics = {\"cv_accuracy\": cv_accuracy, \"cv_f1\": cv_f1, \"test_accuracy\": test_accuracy, \"test_f1\": test_f1}\n",
    "    mlflow.log_metrics(metrics)\n",
    "\n",
    "    # MLflow: Log the parameters\n",
    "    params = {\"C\": param_C, \"max_iter\": param_max_iter}\n",
    "    mlflow.log_params(params)\n",
    "\n",
    "    # MLflow log the model\n",
    "    mlflow.sklearn.log_model(clf, MODEL_NAME)\n",
    "    \n",
    "    model_uri = mlflow.get_artifact_uri(MODEL_NAME)\n",
    "    \n",
    "    # MLflow: save model on MLflow Model Registry\n",
    "    #mv = mlflow.register_model(model_uri, MODEL_NAME)"
   ]
  },
  {
   "cell_type": "code",
   "execution_count": 12,
   "id": "989c46a8-c8b3-4864-a29f-2f8da7fe19d0",
   "metadata": {},
   "outputs": [
    {
     "data": {
      "text/plain": [
       "'s3://datapath-mlops-l3/1/1cf610fd1a88486e98101a50c62f0afc/artifacts/dev_logreg_model'"
      ]
     },
     "execution_count": 12,
     "metadata": {},
     "output_type": "execute_result"
    }
   ],
   "source": [
    "model_uri"
   ]
  },
  {
   "cell_type": "code",
   "execution_count": 13,
   "id": "25657a69-1882-4909-a260-c98109fb82a5",
   "metadata": {},
   "outputs": [
    {
     "name": "stderr",
     "output_type": "stream",
     "text": [
      "Successfully registered model 'dev_logreg_model'.\n",
      "2023/08/01 04:36:14 INFO mlflow.tracking._model_registry.client: Waiting up to 300 seconds for model version to finish creation. Model name: dev_logreg_model, version 1\n",
      "Created version '1' of model 'dev_logreg_model'.\n"
     ]
    }
   ],
   "source": [
    "mv = mlflow.register_model(model_uri, MODEL_NAME)"
   ]
  },
  {
   "cell_type": "code",
   "execution_count": 14,
   "id": "ca4ca478-60f8-488b-b0a9-f7d1d0b5b96a",
   "metadata": {},
   "outputs": [],
   "source": [
    "# Save an image as artifact\n",
    "RocCurveDisplay.from_predictions(\n",
    "    y_test,\n",
    "    y_test_pred,\n",
    "    name=\"ROC Curve\",\n",
    "    color=\"darkorange\",\n",
    ")\n",
    "\n",
    "plt.plot([0, 1], [0, 1], \"k--\", label=\"chance level (AUC = 0.5)\")\n",
    "plt.axis(\"square\")\n",
    "plt.xlabel(\"False Positive Rate\")\n",
    "plt.ylabel(\"True Positive Rate\")\n",
    "plt.legend()\n",
    "\n",
    "plt.savefig(\"ROCcurve.png\")\n",
    "mlflow.log_artifact(\"ROCcurve.png\")\n",
    "plt.close()"
   ]
  },
  {
   "cell_type": "markdown",
   "id": "296e3e4c-3355-4f55-85e0-6d9bb076b360",
   "metadata": {},
   "source": [
    "## Load Model Registry"
   ]
  },
  {
   "cell_type": "code",
   "execution_count": 15,
   "id": "f8d1c227-8a54-4e9f-a61d-531c934e8269",
   "metadata": {},
   "outputs": [],
   "source": [
    "# Load a model and predict\n",
    "# The following command should be a comment if run by docker-compose\n",
    "# MODEL_NAME = \"testing\"\n",
    "version = \"latest\"\n",
    "my_clf = mlflow.pyfunc.load_model(f\"models:/{MODEL_NAME}/{version}\")"
   ]
  },
  {
   "cell_type": "code",
   "execution_count": 16,
   "id": "f096dc79-d0cd-4e5f-968e-4aac4b9017c6",
   "metadata": {},
   "outputs": [
    {
     "name": "stdout",
     "output_type": "stream",
     "text": [
      "[0 1 1 ... 0 0 0]\n"
     ]
    }
   ],
   "source": [
    "print(my_clf.predict(X_test))"
   ]
  },
  {
   "cell_type": "code",
   "execution_count": 17,
   "id": "4199753d-d3b8-45ac-9f4a-aead4fae2fed",
   "metadata": {},
   "outputs": [],
   "source": [
    "import os"
   ]
  },
  {
   "cell_type": "code",
   "execution_count": 18,
   "id": "6a8f1146-40fb-4dae-a2f1-6b51e3c98cd7",
   "metadata": {},
   "outputs": [
    {
     "ename": "TypeError",
     "evalue": "exceptions must derive from BaseException",
     "output_type": "error",
     "traceback": [
      "\u001b[0;31m---------------------------------------------------------------------------\u001b[0m",
      "\u001b[0;31mTypeError\u001b[0m                                 Traceback (most recent call last)",
      "Cell \u001b[0;32mIn[18], line 2\u001b[0m\n\u001b[1;32m      1\u001b[0m \u001b[38;5;28;01mif\u001b[39;00m \u001b[38;5;129;01mnot\u001b[39;00m os\u001b[38;5;241m.\u001b[39mpath\u001b[38;5;241m.\u001b[39mexists(\u001b[38;5;124m'\u001b[39m\u001b[38;5;124m./data\u001b[39m\u001b[38;5;124m'\u001b[39m):\n\u001b[0;32m----> 2\u001b[0m     \u001b[38;5;28;01mraise\u001b[39;00m(\u001b[38;5;124m'\u001b[39m\u001b[38;5;124mNo existe la ruta\u001b[39m\u001b[38;5;124m'\u001b[39m)\n",
      "\u001b[0;31mTypeError\u001b[0m: exceptions must derive from BaseException"
     ]
    }
   ],
   "source": [
    "if not os.path.exists('./data'):\n",
    "    raise('No existe la ruta')"
   ]
  },
  {
   "cell_type": "code",
   "execution_count": null,
   "id": "9850b045-5780-4fb5-9dea-107a311f094e",
   "metadata": {},
   "outputs": [],
   "source": []
  }
 ],
 "metadata": {
  "kernelspec": {
   "display_name": "Python 3 (ipykernel)",
   "language": "python",
   "name": "python3"
  },
  "language_info": {
   "codemirror_mode": {
    "name": "ipython",
    "version": 3
   },
   "file_extension": ".py",
   "mimetype": "text/x-python",
   "name": "python",
   "nbconvert_exporter": "python",
   "pygments_lexer": "ipython3",
   "version": "3.11.4"
  }
 },
 "nbformat": 4,
 "nbformat_minor": 5
}
